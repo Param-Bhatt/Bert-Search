{
  "nbformat": 4,
  "nbformat_minor": 0,
  "metadata": {
    "colab": {
      "name": "IR Assignment.ipynb",
      "provenance": [],
      "collapsed_sections": [],
      "toc_visible": true,
      "include_colab_link": true
    },
    "kernelspec": {
      "name": "python3",
      "display_name": "Python 3"
    },
    "accelerator": "GPU",
    "widgets": {
      "application/vnd.jupyter.widget-state+json": {
        "13cf52d10fa54625b0a263360b17e9bd": {
          "model_module": "@jupyter-widgets/controls",
          "model_name": "HBoxModel",
          "state": {
            "_view_name": "HBoxView",
            "_dom_classes": [],
            "_model_name": "HBoxModel",
            "_view_module": "@jupyter-widgets/controls",
            "_model_module_version": "1.5.0",
            "_view_count": null,
            "_view_module_version": "1.5.0",
            "box_style": "",
            "layout": "IPY_MODEL_51a3283c99bc4795abbeeae8b71b949a",
            "_model_module": "@jupyter-widgets/controls",
            "children": [
              "IPY_MODEL_4d26e561e3b04331b5de76b234d2d911",
              "IPY_MODEL_5a54b926fbf346dbbe71544fa10ceeae"
            ]
          }
        },
        "51a3283c99bc4795abbeeae8b71b949a": {
          "model_module": "@jupyter-widgets/base",
          "model_name": "LayoutModel",
          "state": {
            "_view_name": "LayoutView",
            "grid_template_rows": null,
            "right": null,
            "justify_content": null,
            "_view_module": "@jupyter-widgets/base",
            "overflow": null,
            "_model_module_version": "1.2.0",
            "_view_count": null,
            "flex_flow": null,
            "width": null,
            "min_width": null,
            "border": null,
            "align_items": null,
            "bottom": null,
            "_model_module": "@jupyter-widgets/base",
            "top": null,
            "grid_column": null,
            "overflow_y": null,
            "overflow_x": null,
            "grid_auto_flow": null,
            "grid_area": null,
            "grid_template_columns": null,
            "flex": null,
            "_model_name": "LayoutModel",
            "justify_items": null,
            "grid_row": null,
            "max_height": null,
            "align_content": null,
            "visibility": null,
            "align_self": null,
            "height": null,
            "min_height": null,
            "padding": null,
            "grid_auto_rows": null,
            "grid_gap": null,
            "max_width": null,
            "order": null,
            "_view_module_version": "1.2.0",
            "grid_template_areas": null,
            "object_position": null,
            "object_fit": null,
            "grid_auto_columns": null,
            "margin": null,
            "display": null,
            "left": null
          }
        },
        "4d26e561e3b04331b5de76b234d2d911": {
          "model_module": "@jupyter-widgets/controls",
          "model_name": "FloatProgressModel",
          "state": {
            "_view_name": "ProgressView",
            "style": "IPY_MODEL_d1367a7ac2714ee9aba9a2cf7f8791af",
            "_dom_classes": [],
            "description": "Downloading: ",
            "_model_name": "FloatProgressModel",
            "bar_style": "success",
            "max": 1454,
            "_view_module": "@jupyter-widgets/controls",
            "_model_module_version": "1.5.0",
            "value": 1454,
            "_view_count": null,
            "_view_module_version": "1.5.0",
            "orientation": "horizontal",
            "min": 0,
            "description_tooltip": null,
            "_model_module": "@jupyter-widgets/controls",
            "layout": "IPY_MODEL_0aaa9bf2b4e048d4b5838c28190ebd83"
          }
        },
        "5a54b926fbf346dbbe71544fa10ceeae": {
          "model_module": "@jupyter-widgets/controls",
          "model_name": "HTMLModel",
          "state": {
            "_view_name": "HTMLView",
            "style": "IPY_MODEL_47fae0cb91f14f6082ad0e10177cd7a1",
            "_dom_classes": [],
            "description": "",
            "_model_name": "HTMLModel",
            "placeholder": "​",
            "_view_module": "@jupyter-widgets/controls",
            "_model_module_version": "1.5.0",
            "value": " 3.51k/? [00:02&lt;00:00, 1.56kB/s]",
            "_view_count": null,
            "_view_module_version": "1.5.0",
            "description_tooltip": null,
            "_model_module": "@jupyter-widgets/controls",
            "layout": "IPY_MODEL_468827ca10b44e7d9c30a580034e5da8"
          }
        },
        "d1367a7ac2714ee9aba9a2cf7f8791af": {
          "model_module": "@jupyter-widgets/controls",
          "model_name": "ProgressStyleModel",
          "state": {
            "_view_name": "StyleView",
            "_model_name": "ProgressStyleModel",
            "description_width": "initial",
            "_view_module": "@jupyter-widgets/base",
            "_model_module_version": "1.5.0",
            "_view_count": null,
            "_view_module_version": "1.2.0",
            "bar_color": null,
            "_model_module": "@jupyter-widgets/controls"
          }
        },
        "0aaa9bf2b4e048d4b5838c28190ebd83": {
          "model_module": "@jupyter-widgets/base",
          "model_name": "LayoutModel",
          "state": {
            "_view_name": "LayoutView",
            "grid_template_rows": null,
            "right": null,
            "justify_content": null,
            "_view_module": "@jupyter-widgets/base",
            "overflow": null,
            "_model_module_version": "1.2.0",
            "_view_count": null,
            "flex_flow": null,
            "width": null,
            "min_width": null,
            "border": null,
            "align_items": null,
            "bottom": null,
            "_model_module": "@jupyter-widgets/base",
            "top": null,
            "grid_column": null,
            "overflow_y": null,
            "overflow_x": null,
            "grid_auto_flow": null,
            "grid_area": null,
            "grid_template_columns": null,
            "flex": null,
            "_model_name": "LayoutModel",
            "justify_items": null,
            "grid_row": null,
            "max_height": null,
            "align_content": null,
            "visibility": null,
            "align_self": null,
            "height": null,
            "min_height": null,
            "padding": null,
            "grid_auto_rows": null,
            "grid_gap": null,
            "max_width": null,
            "order": null,
            "_view_module_version": "1.2.0",
            "grid_template_areas": null,
            "object_position": null,
            "object_fit": null,
            "grid_auto_columns": null,
            "margin": null,
            "display": null,
            "left": null
          }
        },
        "47fae0cb91f14f6082ad0e10177cd7a1": {
          "model_module": "@jupyter-widgets/controls",
          "model_name": "DescriptionStyleModel",
          "state": {
            "_view_name": "StyleView",
            "_model_name": "DescriptionStyleModel",
            "description_width": "",
            "_view_module": "@jupyter-widgets/base",
            "_model_module_version": "1.5.0",
            "_view_count": null,
            "_view_module_version": "1.2.0",
            "_model_module": "@jupyter-widgets/controls"
          }
        },
        "468827ca10b44e7d9c30a580034e5da8": {
          "model_module": "@jupyter-widgets/base",
          "model_name": "LayoutModel",
          "state": {
            "_view_name": "LayoutView",
            "grid_template_rows": null,
            "right": null,
            "justify_content": null,
            "_view_module": "@jupyter-widgets/base",
            "overflow": null,
            "_model_module_version": "1.2.0",
            "_view_count": null,
            "flex_flow": null,
            "width": null,
            "min_width": null,
            "border": null,
            "align_items": null,
            "bottom": null,
            "_model_module": "@jupyter-widgets/base",
            "top": null,
            "grid_column": null,
            "overflow_y": null,
            "overflow_x": null,
            "grid_auto_flow": null,
            "grid_area": null,
            "grid_template_columns": null,
            "flex": null,
            "_model_name": "LayoutModel",
            "justify_items": null,
            "grid_row": null,
            "max_height": null,
            "align_content": null,
            "visibility": null,
            "align_self": null,
            "height": null,
            "min_height": null,
            "padding": null,
            "grid_auto_rows": null,
            "grid_gap": null,
            "max_width": null,
            "order": null,
            "_view_module_version": "1.2.0",
            "grid_template_areas": null,
            "object_position": null,
            "object_fit": null,
            "grid_auto_columns": null,
            "margin": null,
            "display": null,
            "left": null
          }
        },
        "4ff0aeb83dca44c383f694a3054c4a6b": {
          "model_module": "@jupyter-widgets/controls",
          "model_name": "HBoxModel",
          "state": {
            "_view_name": "HBoxView",
            "_dom_classes": [],
            "_model_name": "HBoxModel",
            "_view_module": "@jupyter-widgets/controls",
            "_model_module_version": "1.5.0",
            "_view_count": null,
            "_view_module_version": "1.5.0",
            "box_style": "",
            "layout": "IPY_MODEL_27bdf11c35c9492db5e79eec2f05d639",
            "_model_module": "@jupyter-widgets/controls",
            "children": [
              "IPY_MODEL_af483057b8904f5d860f8b105fdc6b84",
              "IPY_MODEL_8374f360ea1a492593cffd637dd36a0d"
            ]
          }
        },
        "27bdf11c35c9492db5e79eec2f05d639": {
          "model_module": "@jupyter-widgets/base",
          "model_name": "LayoutModel",
          "state": {
            "_view_name": "LayoutView",
            "grid_template_rows": null,
            "right": null,
            "justify_content": null,
            "_view_module": "@jupyter-widgets/base",
            "overflow": null,
            "_model_module_version": "1.2.0",
            "_view_count": null,
            "flex_flow": null,
            "width": null,
            "min_width": null,
            "border": null,
            "align_items": null,
            "bottom": null,
            "_model_module": "@jupyter-widgets/base",
            "top": null,
            "grid_column": null,
            "overflow_y": null,
            "overflow_x": null,
            "grid_auto_flow": null,
            "grid_area": null,
            "grid_template_columns": null,
            "flex": null,
            "_model_name": "LayoutModel",
            "justify_items": null,
            "grid_row": null,
            "max_height": null,
            "align_content": null,
            "visibility": null,
            "align_self": null,
            "height": null,
            "min_height": null,
            "padding": null,
            "grid_auto_rows": null,
            "grid_gap": null,
            "max_width": null,
            "order": null,
            "_view_module_version": "1.2.0",
            "grid_template_areas": null,
            "object_position": null,
            "object_fit": null,
            "grid_auto_columns": null,
            "margin": null,
            "display": null,
            "left": null
          }
        },
        "af483057b8904f5d860f8b105fdc6b84": {
          "model_module": "@jupyter-widgets/controls",
          "model_name": "FloatProgressModel",
          "state": {
            "_view_name": "ProgressView",
            "style": "IPY_MODEL_0e56366233f94d76bce380ced2e0edf0",
            "_dom_classes": [],
            "description": "Downloading: ",
            "_model_name": "FloatProgressModel",
            "bar_style": "success",
            "max": 749,
            "_view_module": "@jupyter-widgets/controls",
            "_model_module_version": "1.5.0",
            "value": 749,
            "_view_count": null,
            "_view_module_version": "1.5.0",
            "orientation": "horizontal",
            "min": 0,
            "description_tooltip": null,
            "_model_module": "@jupyter-widgets/controls",
            "layout": "IPY_MODEL_cfa5bb24f3fd46bdb2e655ad58814101"
          }
        },
        "8374f360ea1a492593cffd637dd36a0d": {
          "model_module": "@jupyter-widgets/controls",
          "model_name": "HTMLModel",
          "state": {
            "_view_name": "HTMLView",
            "style": "IPY_MODEL_abd16e4636b14eaf924881d2ec900764",
            "_dom_classes": [],
            "description": "",
            "_model_name": "HTMLModel",
            "placeholder": "​",
            "_view_module": "@jupyter-widgets/controls",
            "_model_module_version": "1.5.0",
            "value": " 1.54k/? [00:00&lt;00:00, 23.0kB/s]",
            "_view_count": null,
            "_view_module_version": "1.5.0",
            "description_tooltip": null,
            "_model_module": "@jupyter-widgets/controls",
            "layout": "IPY_MODEL_b2f59b6886254713bd974e99e6770e7d"
          }
        },
        "0e56366233f94d76bce380ced2e0edf0": {
          "model_module": "@jupyter-widgets/controls",
          "model_name": "ProgressStyleModel",
          "state": {
            "_view_name": "StyleView",
            "_model_name": "ProgressStyleModel",
            "description_width": "initial",
            "_view_module": "@jupyter-widgets/base",
            "_model_module_version": "1.5.0",
            "_view_count": null,
            "_view_module_version": "1.2.0",
            "bar_color": null,
            "_model_module": "@jupyter-widgets/controls"
          }
        },
        "cfa5bb24f3fd46bdb2e655ad58814101": {
          "model_module": "@jupyter-widgets/base",
          "model_name": "LayoutModel",
          "state": {
            "_view_name": "LayoutView",
            "grid_template_rows": null,
            "right": null,
            "justify_content": null,
            "_view_module": "@jupyter-widgets/base",
            "overflow": null,
            "_model_module_version": "1.2.0",
            "_view_count": null,
            "flex_flow": null,
            "width": null,
            "min_width": null,
            "border": null,
            "align_items": null,
            "bottom": null,
            "_model_module": "@jupyter-widgets/base",
            "top": null,
            "grid_column": null,
            "overflow_y": null,
            "overflow_x": null,
            "grid_auto_flow": null,
            "grid_area": null,
            "grid_template_columns": null,
            "flex": null,
            "_model_name": "LayoutModel",
            "justify_items": null,
            "grid_row": null,
            "max_height": null,
            "align_content": null,
            "visibility": null,
            "align_self": null,
            "height": null,
            "min_height": null,
            "padding": null,
            "grid_auto_rows": null,
            "grid_gap": null,
            "max_width": null,
            "order": null,
            "_view_module_version": "1.2.0",
            "grid_template_areas": null,
            "object_position": null,
            "object_fit": null,
            "grid_auto_columns": null,
            "margin": null,
            "display": null,
            "left": null
          }
        },
        "abd16e4636b14eaf924881d2ec900764": {
          "model_module": "@jupyter-widgets/controls",
          "model_name": "DescriptionStyleModel",
          "state": {
            "_view_name": "StyleView",
            "_model_name": "DescriptionStyleModel",
            "description_width": "",
            "_view_module": "@jupyter-widgets/base",
            "_model_module_version": "1.5.0",
            "_view_count": null,
            "_view_module_version": "1.2.0",
            "_model_module": "@jupyter-widgets/controls"
          }
        },
        "b2f59b6886254713bd974e99e6770e7d": {
          "model_module": "@jupyter-widgets/base",
          "model_name": "LayoutModel",
          "state": {
            "_view_name": "LayoutView",
            "grid_template_rows": null,
            "right": null,
            "justify_content": null,
            "_view_module": "@jupyter-widgets/base",
            "overflow": null,
            "_model_module_version": "1.2.0",
            "_view_count": null,
            "flex_flow": null,
            "width": null,
            "min_width": null,
            "border": null,
            "align_items": null,
            "bottom": null,
            "_model_module": "@jupyter-widgets/base",
            "top": null,
            "grid_column": null,
            "overflow_y": null,
            "overflow_x": null,
            "grid_auto_flow": null,
            "grid_area": null,
            "grid_template_columns": null,
            "flex": null,
            "_model_name": "LayoutModel",
            "justify_items": null,
            "grid_row": null,
            "max_height": null,
            "align_content": null,
            "visibility": null,
            "align_self": null,
            "height": null,
            "min_height": null,
            "padding": null,
            "grid_auto_rows": null,
            "grid_gap": null,
            "max_width": null,
            "order": null,
            "_view_module_version": "1.2.0",
            "grid_template_areas": null,
            "object_position": null,
            "object_fit": null,
            "grid_auto_columns": null,
            "margin": null,
            "display": null,
            "left": null
          }
        },
        "0bdcd12e02964f9c8bfcd8a3ec18edcd": {
          "model_module": "@jupyter-widgets/controls",
          "model_name": "HBoxModel",
          "state": {
            "_view_name": "HBoxView",
            "_dom_classes": [],
            "_model_name": "HBoxModel",
            "_view_module": "@jupyter-widgets/controls",
            "_model_module_version": "1.5.0",
            "_view_count": null,
            "_view_module_version": "1.5.0",
            "box_style": "",
            "layout": "IPY_MODEL_5fe043b9f128454e8475c2adfa3ae75d",
            "_model_module": "@jupyter-widgets/controls",
            "children": [
              "IPY_MODEL_8d59839695124e468fd77b8c6c45beef",
              "IPY_MODEL_f36ff541033347beabbc3905f29cfead"
            ]
          }
        },
        "5fe043b9f128454e8475c2adfa3ae75d": {
          "model_module": "@jupyter-widgets/base",
          "model_name": "LayoutModel",
          "state": {
            "_view_name": "LayoutView",
            "grid_template_rows": null,
            "right": null,
            "justify_content": null,
            "_view_module": "@jupyter-widgets/base",
            "overflow": null,
            "_model_module_version": "1.2.0",
            "_view_count": null,
            "flex_flow": null,
            "width": null,
            "min_width": null,
            "border": null,
            "align_items": null,
            "bottom": null,
            "_model_module": "@jupyter-widgets/base",
            "top": null,
            "grid_column": null,
            "overflow_y": null,
            "overflow_x": null,
            "grid_auto_flow": null,
            "grid_area": null,
            "grid_template_columns": null,
            "flex": null,
            "_model_name": "LayoutModel",
            "justify_items": null,
            "grid_row": null,
            "max_height": null,
            "align_content": null,
            "visibility": null,
            "align_self": null,
            "height": null,
            "min_height": null,
            "padding": null,
            "grid_auto_rows": null,
            "grid_gap": null,
            "max_width": null,
            "order": null,
            "_view_module_version": "1.2.0",
            "grid_template_areas": null,
            "object_position": null,
            "object_fit": null,
            "grid_auto_columns": null,
            "margin": null,
            "display": null,
            "left": null
          }
        },
        "8d59839695124e468fd77b8c6c45beef": {
          "model_module": "@jupyter-widgets/controls",
          "model_name": "FloatProgressModel",
          "state": {
            "_view_name": "ProgressView",
            "style": "IPY_MODEL_28fd71cf536e48aa91409fb21066b1fc",
            "_dom_classes": [],
            "description": "Downloading: ",
            "_model_name": "FloatProgressModel",
            "bar_style": "success",
            "max": 1,
            "_view_module": "@jupyter-widgets/controls",
            "_model_module_version": "1.5.0",
            "value": 1,
            "_view_count": null,
            "_view_module_version": "1.5.0",
            "orientation": "horizontal",
            "min": 0,
            "description_tooltip": null,
            "_model_module": "@jupyter-widgets/controls",
            "layout": "IPY_MODEL_bcfd46c0f0c7475890a48b94111cf673"
          }
        },
        "f36ff541033347beabbc3905f29cfead": {
          "model_module": "@jupyter-widgets/controls",
          "model_name": "HTMLModel",
          "state": {
            "_view_name": "HTMLView",
            "style": "IPY_MODEL_70d6103fd9d34210a8bd535839589347",
            "_dom_classes": [],
            "description": "",
            "_model_name": "HTMLModel",
            "placeholder": "​",
            "_view_module": "@jupyter-widgets/controls",
            "_model_module_version": "1.5.0",
            "value": " 11.6M/? [00:01&lt;00:00, 10.6MB/s]",
            "_view_count": null,
            "_view_module_version": "1.5.0",
            "description_tooltip": null,
            "_model_module": "@jupyter-widgets/controls",
            "layout": "IPY_MODEL_db4a36ae2dd7401bbb80e3bb7565d866"
          }
        },
        "28fd71cf536e48aa91409fb21066b1fc": {
          "model_module": "@jupyter-widgets/controls",
          "model_name": "ProgressStyleModel",
          "state": {
            "_view_name": "StyleView",
            "_model_name": "ProgressStyleModel",
            "description_width": "initial",
            "_view_module": "@jupyter-widgets/base",
            "_model_module_version": "1.5.0",
            "_view_count": null,
            "_view_module_version": "1.2.0",
            "bar_color": null,
            "_model_module": "@jupyter-widgets/controls"
          }
        },
        "bcfd46c0f0c7475890a48b94111cf673": {
          "model_module": "@jupyter-widgets/base",
          "model_name": "LayoutModel",
          "state": {
            "_view_name": "LayoutView",
            "grid_template_rows": null,
            "right": null,
            "justify_content": null,
            "_view_module": "@jupyter-widgets/base",
            "overflow": null,
            "_model_module_version": "1.2.0",
            "_view_count": null,
            "flex_flow": null,
            "width": null,
            "min_width": null,
            "border": null,
            "align_items": null,
            "bottom": null,
            "_model_module": "@jupyter-widgets/base",
            "top": null,
            "grid_column": null,
            "overflow_y": null,
            "overflow_x": null,
            "grid_auto_flow": null,
            "grid_area": null,
            "grid_template_columns": null,
            "flex": null,
            "_model_name": "LayoutModel",
            "justify_items": null,
            "grid_row": null,
            "max_height": null,
            "align_content": null,
            "visibility": null,
            "align_self": null,
            "height": null,
            "min_height": null,
            "padding": null,
            "grid_auto_rows": null,
            "grid_gap": null,
            "max_width": null,
            "order": null,
            "_view_module_version": "1.2.0",
            "grid_template_areas": null,
            "object_position": null,
            "object_fit": null,
            "grid_auto_columns": null,
            "margin": null,
            "display": null,
            "left": null
          }
        },
        "70d6103fd9d34210a8bd535839589347": {
          "model_module": "@jupyter-widgets/controls",
          "model_name": "DescriptionStyleModel",
          "state": {
            "_view_name": "StyleView",
            "_model_name": "DescriptionStyleModel",
            "description_width": "",
            "_view_module": "@jupyter-widgets/base",
            "_model_module_version": "1.5.0",
            "_view_count": null,
            "_view_module_version": "1.2.0",
            "_model_module": "@jupyter-widgets/controls"
          }
        },
        "db4a36ae2dd7401bbb80e3bb7565d866": {
          "model_module": "@jupyter-widgets/base",
          "model_name": "LayoutModel",
          "state": {
            "_view_name": "LayoutView",
            "grid_template_rows": null,
            "right": null,
            "justify_content": null,
            "_view_module": "@jupyter-widgets/base",
            "overflow": null,
            "_model_module_version": "1.2.0",
            "_view_count": null,
            "flex_flow": null,
            "width": null,
            "min_width": null,
            "border": null,
            "align_items": null,
            "bottom": null,
            "_model_module": "@jupyter-widgets/base",
            "top": null,
            "grid_column": null,
            "overflow_y": null,
            "overflow_x": null,
            "grid_auto_flow": null,
            "grid_area": null,
            "grid_template_columns": null,
            "flex": null,
            "_model_name": "LayoutModel",
            "justify_items": null,
            "grid_row": null,
            "max_height": null,
            "align_content": null,
            "visibility": null,
            "align_self": null,
            "height": null,
            "min_height": null,
            "padding": null,
            "grid_auto_rows": null,
            "grid_gap": null,
            "max_width": null,
            "order": null,
            "_view_module_version": "1.2.0",
            "grid_template_areas": null,
            "object_position": null,
            "object_fit": null,
            "grid_auto_columns": null,
            "margin": null,
            "display": null,
            "left": null
          }
        },
        "1128ae350e5f4c159e6a66382cb5d8df": {
          "model_module": "@jupyter-widgets/controls",
          "model_name": "HBoxModel",
          "state": {
            "_view_name": "HBoxView",
            "_dom_classes": [],
            "_model_name": "HBoxModel",
            "_view_module": "@jupyter-widgets/controls",
            "_model_module_version": "1.5.0",
            "_view_count": null,
            "_view_module_version": "1.5.0",
            "box_style": "",
            "layout": "IPY_MODEL_04d58223fefe4e129a1e5c4f389ab322",
            "_model_module": "@jupyter-widgets/controls",
            "children": [
              "IPY_MODEL_db3523695f3740b4849250f2780e4d0c",
              "IPY_MODEL_1baa4ffe357940beb6839b6fdf55d643"
            ]
          }
        },
        "04d58223fefe4e129a1e5c4f389ab322": {
          "model_module": "@jupyter-widgets/base",
          "model_name": "LayoutModel",
          "state": {
            "_view_name": "LayoutView",
            "grid_template_rows": null,
            "right": null,
            "justify_content": null,
            "_view_module": "@jupyter-widgets/base",
            "overflow": null,
            "_model_module_version": "1.2.0",
            "_view_count": null,
            "flex_flow": null,
            "width": null,
            "min_width": null,
            "border": null,
            "align_items": null,
            "bottom": null,
            "_model_module": "@jupyter-widgets/base",
            "top": null,
            "grid_column": null,
            "overflow_y": null,
            "overflow_x": null,
            "grid_auto_flow": null,
            "grid_area": null,
            "grid_template_columns": null,
            "flex": null,
            "_model_name": "LayoutModel",
            "justify_items": null,
            "grid_row": null,
            "max_height": null,
            "align_content": null,
            "visibility": null,
            "align_self": null,
            "height": null,
            "min_height": null,
            "padding": null,
            "grid_auto_rows": null,
            "grid_gap": null,
            "max_width": null,
            "order": null,
            "_view_module_version": "1.2.0",
            "grid_template_areas": null,
            "object_position": null,
            "object_fit": null,
            "grid_auto_columns": null,
            "margin": null,
            "display": null,
            "left": null
          }
        },
        "db3523695f3740b4849250f2780e4d0c": {
          "model_module": "@jupyter-widgets/controls",
          "model_name": "FloatProgressModel",
          "state": {
            "_view_name": "ProgressView",
            "style": "IPY_MODEL_2b5f140567d549f48ef0dee4240a259a",
            "_dom_classes": [],
            "description": "",
            "_model_name": "FloatProgressModel",
            "bar_style": "info",
            "max": 1,
            "_view_module": "@jupyter-widgets/controls",
            "_model_module_version": "1.5.0",
            "value": 1,
            "_view_count": null,
            "_view_module_version": "1.5.0",
            "orientation": "horizontal",
            "min": 0,
            "description_tooltip": null,
            "_model_module": "@jupyter-widgets/controls",
            "layout": "IPY_MODEL_c480284c7c0d45c398075c476a860675"
          }
        },
        "1baa4ffe357940beb6839b6fdf55d643": {
          "model_module": "@jupyter-widgets/controls",
          "model_name": "HTMLModel",
          "state": {
            "_view_name": "HTMLView",
            "style": "IPY_MODEL_dccb8571ed0044a3a41de22ff9ff27ce",
            "_dom_classes": [],
            "description": "",
            "_model_name": "HTMLModel",
            "placeholder": "​",
            "_view_module": "@jupyter-widgets/controls",
            "_model_module_version": "1.5.0",
            "value": " 14436/0 [00:00&lt;00:00, 12320.23 examples/s]",
            "_view_count": null,
            "_view_module_version": "1.5.0",
            "description_tooltip": null,
            "_model_module": "@jupyter-widgets/controls",
            "layout": "IPY_MODEL_f7e19d8a3b1f44c4ac2c1564c7acaeb5"
          }
        },
        "2b5f140567d549f48ef0dee4240a259a": {
          "model_module": "@jupyter-widgets/controls",
          "model_name": "ProgressStyleModel",
          "state": {
            "_view_name": "StyleView",
            "_model_name": "ProgressStyleModel",
            "description_width": "initial",
            "_view_module": "@jupyter-widgets/base",
            "_model_module_version": "1.5.0",
            "_view_count": null,
            "_view_module_version": "1.2.0",
            "bar_color": null,
            "_model_module": "@jupyter-widgets/controls"
          }
        },
        "c480284c7c0d45c398075c476a860675": {
          "model_module": "@jupyter-widgets/base",
          "model_name": "LayoutModel",
          "state": {
            "_view_name": "LayoutView",
            "grid_template_rows": null,
            "right": null,
            "justify_content": null,
            "_view_module": "@jupyter-widgets/base",
            "overflow": null,
            "_model_module_version": "1.2.0",
            "_view_count": null,
            "flex_flow": null,
            "width": null,
            "min_width": null,
            "border": null,
            "align_items": null,
            "bottom": null,
            "_model_module": "@jupyter-widgets/base",
            "top": null,
            "grid_column": null,
            "overflow_y": null,
            "overflow_x": null,
            "grid_auto_flow": null,
            "grid_area": null,
            "grid_template_columns": null,
            "flex": null,
            "_model_name": "LayoutModel",
            "justify_items": null,
            "grid_row": null,
            "max_height": null,
            "align_content": null,
            "visibility": null,
            "align_self": null,
            "height": null,
            "min_height": null,
            "padding": null,
            "grid_auto_rows": null,
            "grid_gap": null,
            "max_width": null,
            "order": null,
            "_view_module_version": "1.2.0",
            "grid_template_areas": null,
            "object_position": null,
            "object_fit": null,
            "grid_auto_columns": null,
            "margin": null,
            "display": null,
            "left": null
          }
        },
        "dccb8571ed0044a3a41de22ff9ff27ce": {
          "model_module": "@jupyter-widgets/controls",
          "model_name": "DescriptionStyleModel",
          "state": {
            "_view_name": "StyleView",
            "_model_name": "DescriptionStyleModel",
            "description_width": "",
            "_view_module": "@jupyter-widgets/base",
            "_model_module_version": "1.5.0",
            "_view_count": null,
            "_view_module_version": "1.2.0",
            "_model_module": "@jupyter-widgets/controls"
          }
        },
        "f7e19d8a3b1f44c4ac2c1564c7acaeb5": {
          "model_module": "@jupyter-widgets/base",
          "model_name": "LayoutModel",
          "state": {
            "_view_name": "LayoutView",
            "grid_template_rows": null,
            "right": null,
            "justify_content": null,
            "_view_module": "@jupyter-widgets/base",
            "overflow": null,
            "_model_module_version": "1.2.0",
            "_view_count": null,
            "flex_flow": null,
            "width": null,
            "min_width": null,
            "border": null,
            "align_items": null,
            "bottom": null,
            "_model_module": "@jupyter-widgets/base",
            "top": null,
            "grid_column": null,
            "overflow_y": null,
            "overflow_x": null,
            "grid_auto_flow": null,
            "grid_area": null,
            "grid_template_columns": null,
            "flex": null,
            "_model_name": "LayoutModel",
            "justify_items": null,
            "grid_row": null,
            "max_height": null,
            "align_content": null,
            "visibility": null,
            "align_self": null,
            "height": null,
            "min_height": null,
            "padding": null,
            "grid_auto_rows": null,
            "grid_gap": null,
            "max_width": null,
            "order": null,
            "_view_module_version": "1.2.0",
            "grid_template_areas": null,
            "object_position": null,
            "object_fit": null,
            "grid_auto_columns": null,
            "margin": null,
            "display": null,
            "left": null
          }
        },
        "91b15e7527d34f80a680441d8c3d2747": {
          "model_module": "@jupyter-widgets/controls",
          "model_name": "HBoxModel",
          "state": {
            "_view_name": "HBoxView",
            "_dom_classes": [],
            "_model_name": "HBoxModel",
            "_view_module": "@jupyter-widgets/controls",
            "_model_module_version": "1.5.0",
            "_view_count": null,
            "_view_module_version": "1.5.0",
            "box_style": "",
            "layout": "IPY_MODEL_d950b5d1f3cd44e68575be58a5ff1318",
            "_model_module": "@jupyter-widgets/controls",
            "children": [
              "IPY_MODEL_b5b7bcda6c094a8e92d7d411aef6c298",
              "IPY_MODEL_9153315935654198b4bb7dc263e06bca"
            ]
          }
        },
        "d950b5d1f3cd44e68575be58a5ff1318": {
          "model_module": "@jupyter-widgets/base",
          "model_name": "LayoutModel",
          "state": {
            "_view_name": "LayoutView",
            "grid_template_rows": null,
            "right": null,
            "justify_content": null,
            "_view_module": "@jupyter-widgets/base",
            "overflow": null,
            "_model_module_version": "1.2.0",
            "_view_count": null,
            "flex_flow": null,
            "width": null,
            "min_width": null,
            "border": null,
            "align_items": null,
            "bottom": null,
            "_model_module": "@jupyter-widgets/base",
            "top": null,
            "grid_column": null,
            "overflow_y": null,
            "overflow_x": null,
            "grid_auto_flow": null,
            "grid_area": null,
            "grid_template_columns": null,
            "flex": null,
            "_model_name": "LayoutModel",
            "justify_items": null,
            "grid_row": null,
            "max_height": null,
            "align_content": null,
            "visibility": null,
            "align_self": null,
            "height": null,
            "min_height": null,
            "padding": null,
            "grid_auto_rows": null,
            "grid_gap": null,
            "max_width": null,
            "order": null,
            "_view_module_version": "1.2.0",
            "grid_template_areas": null,
            "object_position": null,
            "object_fit": null,
            "grid_auto_columns": null,
            "margin": null,
            "display": null,
            "left": null
          }
        },
        "b5b7bcda6c094a8e92d7d411aef6c298": {
          "model_module": "@jupyter-widgets/controls",
          "model_name": "FloatProgressModel",
          "state": {
            "_view_name": "ProgressView",
            "style": "IPY_MODEL_dffe97ab98954c53852ed23adece8935",
            "_dom_classes": [],
            "description": "",
            "_model_name": "FloatProgressModel",
            "bar_style": "info",
            "max": 1,
            "_view_module": "@jupyter-widgets/controls",
            "_model_module_version": "1.5.0",
            "value": 1,
            "_view_count": null,
            "_view_module_version": "1.5.0",
            "orientation": "horizontal",
            "min": 0,
            "description_tooltip": null,
            "_model_module": "@jupyter-widgets/controls",
            "layout": "IPY_MODEL_766c063fcdff472984d18449bc46fb94"
          }
        },
        "9153315935654198b4bb7dc263e06bca": {
          "model_module": "@jupyter-widgets/controls",
          "model_name": "HTMLModel",
          "state": {
            "_view_name": "HTMLView",
            "style": "IPY_MODEL_e203d48196e74c91b3dfddb2f604b4b7",
            "_dom_classes": [],
            "description": "",
            "_model_name": "HTMLModel",
            "placeholder": "​",
            "_view_module": "@jupyter-widgets/controls",
            "_model_module_version": "1.5.0",
            "value": " 1960/0 [00:00&lt;00:00, 12241.61 examples/s]",
            "_view_count": null,
            "_view_module_version": "1.5.0",
            "description_tooltip": null,
            "_model_module": "@jupyter-widgets/controls",
            "layout": "IPY_MODEL_7081ea7636df4452895c28478107b5d4"
          }
        },
        "dffe97ab98954c53852ed23adece8935": {
          "model_module": "@jupyter-widgets/controls",
          "model_name": "ProgressStyleModel",
          "state": {
            "_view_name": "StyleView",
            "_model_name": "ProgressStyleModel",
            "description_width": "initial",
            "_view_module": "@jupyter-widgets/base",
            "_model_module_version": "1.5.0",
            "_view_count": null,
            "_view_module_version": "1.2.0",
            "bar_color": null,
            "_model_module": "@jupyter-widgets/controls"
          }
        },
        "766c063fcdff472984d18449bc46fb94": {
          "model_module": "@jupyter-widgets/base",
          "model_name": "LayoutModel",
          "state": {
            "_view_name": "LayoutView",
            "grid_template_rows": null,
            "right": null,
            "justify_content": null,
            "_view_module": "@jupyter-widgets/base",
            "overflow": null,
            "_model_module_version": "1.2.0",
            "_view_count": null,
            "flex_flow": null,
            "width": null,
            "min_width": null,
            "border": null,
            "align_items": null,
            "bottom": null,
            "_model_module": "@jupyter-widgets/base",
            "top": null,
            "grid_column": null,
            "overflow_y": null,
            "overflow_x": null,
            "grid_auto_flow": null,
            "grid_area": null,
            "grid_template_columns": null,
            "flex": null,
            "_model_name": "LayoutModel",
            "justify_items": null,
            "grid_row": null,
            "max_height": null,
            "align_content": null,
            "visibility": null,
            "align_self": null,
            "height": null,
            "min_height": null,
            "padding": null,
            "grid_auto_rows": null,
            "grid_gap": null,
            "max_width": null,
            "order": null,
            "_view_module_version": "1.2.0",
            "grid_template_areas": null,
            "object_position": null,
            "object_fit": null,
            "grid_auto_columns": null,
            "margin": null,
            "display": null,
            "left": null
          }
        },
        "e203d48196e74c91b3dfddb2f604b4b7": {
          "model_module": "@jupyter-widgets/controls",
          "model_name": "DescriptionStyleModel",
          "state": {
            "_view_name": "StyleView",
            "_model_name": "DescriptionStyleModel",
            "description_width": "",
            "_view_module": "@jupyter-widgets/base",
            "_model_module_version": "1.5.0",
            "_view_count": null,
            "_view_module_version": "1.2.0",
            "_model_module": "@jupyter-widgets/controls"
          }
        },
        "7081ea7636df4452895c28478107b5d4": {
          "model_module": "@jupyter-widgets/base",
          "model_name": "LayoutModel",
          "state": {
            "_view_name": "LayoutView",
            "grid_template_rows": null,
            "right": null,
            "justify_content": null,
            "_view_module": "@jupyter-widgets/base",
            "overflow": null,
            "_model_module_version": "1.2.0",
            "_view_count": null,
            "flex_flow": null,
            "width": null,
            "min_width": null,
            "border": null,
            "align_items": null,
            "bottom": null,
            "_model_module": "@jupyter-widgets/base",
            "top": null,
            "grid_column": null,
            "overflow_y": null,
            "overflow_x": null,
            "grid_auto_flow": null,
            "grid_area": null,
            "grid_template_columns": null,
            "flex": null,
            "_model_name": "LayoutModel",
            "justify_items": null,
            "grid_row": null,
            "max_height": null,
            "align_content": null,
            "visibility": null,
            "align_self": null,
            "height": null,
            "min_height": null,
            "padding": null,
            "grid_auto_rows": null,
            "grid_gap": null,
            "max_width": null,
            "order": null,
            "_view_module_version": "1.2.0",
            "grid_template_areas": null,
            "object_position": null,
            "object_fit": null,
            "grid_auto_columns": null,
            "margin": null,
            "display": null,
            "left": null
          }
        },
        "bd387baa1c65400eb35a6cc665ea39b2": {
          "model_module": "@jupyter-widgets/controls",
          "model_name": "HBoxModel",
          "state": {
            "_view_name": "HBoxView",
            "_dom_classes": [],
            "_model_name": "HBoxModel",
            "_view_module": "@jupyter-widgets/controls",
            "_model_module_version": "1.5.0",
            "_view_count": null,
            "_view_module_version": "1.5.0",
            "box_style": "",
            "layout": "IPY_MODEL_a7d6ebf4cc7d4715a68ace4aed33eae6",
            "_model_module": "@jupyter-widgets/controls",
            "children": [
              "IPY_MODEL_e2d343b1e94d4b928a8f6b62c3c1b72b",
              "IPY_MODEL_f6bf3dcc0bcf4879a43268369bff4d96"
            ]
          }
        },
        "a7d6ebf4cc7d4715a68ace4aed33eae6": {
          "model_module": "@jupyter-widgets/base",
          "model_name": "LayoutModel",
          "state": {
            "_view_name": "LayoutView",
            "grid_template_rows": null,
            "right": null,
            "justify_content": null,
            "_view_module": "@jupyter-widgets/base",
            "overflow": null,
            "_model_module_version": "1.2.0",
            "_view_count": null,
            "flex_flow": null,
            "width": null,
            "min_width": null,
            "border": null,
            "align_items": null,
            "bottom": null,
            "_model_module": "@jupyter-widgets/base",
            "top": null,
            "grid_column": null,
            "overflow_y": null,
            "overflow_x": null,
            "grid_auto_flow": null,
            "grid_area": null,
            "grid_template_columns": null,
            "flex": null,
            "_model_name": "LayoutModel",
            "justify_items": null,
            "grid_row": null,
            "max_height": null,
            "align_content": null,
            "visibility": null,
            "align_self": null,
            "height": null,
            "min_height": null,
            "padding": null,
            "grid_auto_rows": null,
            "grid_gap": null,
            "max_width": null,
            "order": null,
            "_view_module_version": "1.2.0",
            "grid_template_areas": null,
            "object_position": null,
            "object_fit": null,
            "grid_auto_columns": null,
            "margin": null,
            "display": null,
            "left": null
          }
        },
        "e2d343b1e94d4b928a8f6b62c3c1b72b": {
          "model_module": "@jupyter-widgets/controls",
          "model_name": "FloatProgressModel",
          "state": {
            "_view_name": "ProgressView",
            "style": "IPY_MODEL_e31a5b76e4ab4a4a8bd957a65f429072",
            "_dom_classes": [],
            "description": "",
            "_model_name": "FloatProgressModel",
            "bar_style": "info",
            "max": 1,
            "_view_module": "@jupyter-widgets/controls",
            "_model_module_version": "1.5.0",
            "value": 1,
            "_view_count": null,
            "_view_module_version": "1.5.0",
            "orientation": "horizontal",
            "min": 0,
            "description_tooltip": null,
            "_model_module": "@jupyter-widgets/controls",
            "layout": "IPY_MODEL_d944c78378b64266b6d9295cba3b8e6e"
          }
        },
        "f6bf3dcc0bcf4879a43268369bff4d96": {
          "model_module": "@jupyter-widgets/controls",
          "model_name": "HTMLModel",
          "state": {
            "_view_name": "HTMLView",
            "style": "IPY_MODEL_9be68611f89547d799bdb41dc3dbbb57",
            "_dom_classes": [],
            "description": "",
            "_model_name": "HTMLModel",
            "placeholder": "​",
            "_view_module": "@jupyter-widgets/controls",
            "_model_module_version": "1.5.0",
            "value": " 1906/0 [00:00&lt;00:00, 13999.48 examples/s]",
            "_view_count": null,
            "_view_module_version": "1.5.0",
            "description_tooltip": null,
            "_model_module": "@jupyter-widgets/controls",
            "layout": "IPY_MODEL_69becbd1b8844795b4ef6cc7d1ea99c6"
          }
        },
        "e31a5b76e4ab4a4a8bd957a65f429072": {
          "model_module": "@jupyter-widgets/controls",
          "model_name": "ProgressStyleModel",
          "state": {
            "_view_name": "StyleView",
            "_model_name": "ProgressStyleModel",
            "description_width": "initial",
            "_view_module": "@jupyter-widgets/base",
            "_model_module_version": "1.5.0",
            "_view_count": null,
            "_view_module_version": "1.2.0",
            "bar_color": null,
            "_model_module": "@jupyter-widgets/controls"
          }
        },
        "d944c78378b64266b6d9295cba3b8e6e": {
          "model_module": "@jupyter-widgets/base",
          "model_name": "LayoutModel",
          "state": {
            "_view_name": "LayoutView",
            "grid_template_rows": null,
            "right": null,
            "justify_content": null,
            "_view_module": "@jupyter-widgets/base",
            "overflow": null,
            "_model_module_version": "1.2.0",
            "_view_count": null,
            "flex_flow": null,
            "width": null,
            "min_width": null,
            "border": null,
            "align_items": null,
            "bottom": null,
            "_model_module": "@jupyter-widgets/base",
            "top": null,
            "grid_column": null,
            "overflow_y": null,
            "overflow_x": null,
            "grid_auto_flow": null,
            "grid_area": null,
            "grid_template_columns": null,
            "flex": null,
            "_model_name": "LayoutModel",
            "justify_items": null,
            "grid_row": null,
            "max_height": null,
            "align_content": null,
            "visibility": null,
            "align_self": null,
            "height": null,
            "min_height": null,
            "padding": null,
            "grid_auto_rows": null,
            "grid_gap": null,
            "max_width": null,
            "order": null,
            "_view_module_version": "1.2.0",
            "grid_template_areas": null,
            "object_position": null,
            "object_fit": null,
            "grid_auto_columns": null,
            "margin": null,
            "display": null,
            "left": null
          }
        },
        "9be68611f89547d799bdb41dc3dbbb57": {
          "model_module": "@jupyter-widgets/controls",
          "model_name": "DescriptionStyleModel",
          "state": {
            "_view_name": "StyleView",
            "_model_name": "DescriptionStyleModel",
            "description_width": "",
            "_view_module": "@jupyter-widgets/base",
            "_model_module_version": "1.5.0",
            "_view_count": null,
            "_view_module_version": "1.2.0",
            "_model_module": "@jupyter-widgets/controls"
          }
        },
        "69becbd1b8844795b4ef6cc7d1ea99c6": {
          "model_module": "@jupyter-widgets/base",
          "model_name": "LayoutModel",
          "state": {
            "_view_name": "LayoutView",
            "grid_template_rows": null,
            "right": null,
            "justify_content": null,
            "_view_module": "@jupyter-widgets/base",
            "overflow": null,
            "_model_module_version": "1.2.0",
            "_view_count": null,
            "flex_flow": null,
            "width": null,
            "min_width": null,
            "border": null,
            "align_items": null,
            "bottom": null,
            "_model_module": "@jupyter-widgets/base",
            "top": null,
            "grid_column": null,
            "overflow_y": null,
            "overflow_x": null,
            "grid_auto_flow": null,
            "grid_area": null,
            "grid_template_columns": null,
            "flex": null,
            "_model_name": "LayoutModel",
            "justify_items": null,
            "grid_row": null,
            "max_height": null,
            "align_content": null,
            "visibility": null,
            "align_self": null,
            "height": null,
            "min_height": null,
            "padding": null,
            "grid_auto_rows": null,
            "grid_gap": null,
            "max_width": null,
            "order": null,
            "_view_module_version": "1.2.0",
            "grid_template_areas": null,
            "object_position": null,
            "object_fit": null,
            "grid_auto_columns": null,
            "margin": null,
            "display": null,
            "left": null
          }
        }
      }
    }
  },
  "cells": [
    {
      "cell_type": "markdown",
      "metadata": {
        "id": "view-in-github",
        "colab_type": "text"
      },
      "source": [
        "<a href=\"https://colab.research.google.com/github/Param-Bhatt/Search-engine/blob/document/IR_Assignment.ipynb\" target=\"_parent\"><img src=\"https://colab.research.google.com/assets/colab-badge.svg\" alt=\"Open In Colab\"/></a>"
      ]
    },
    {
      "cell_type": "code",
      "metadata": {
        "id": "dTDe66yR8Mji",
        "outputId": "9051bed1-b514-4018-d263-1c9b24aec525",
        "colab": {
          "base_uri": "https://localhost:8080/",
          "height": 504
        }
      },
      "source": [
        "#Library for corpus to get corpus\n",
        "!pip install datasets"
      ],
      "execution_count": null,
      "outputs": [
        {
          "output_type": "stream",
          "text": [
            "Collecting datasets\n",
            "\u001b[?25l  Downloading https://files.pythonhosted.org/packages/f0/f4/2a3d6aee93ae7fce6c936dda2d7f534ad5f044a21238f85e28f0b205adf0/datasets-1.1.2-py3-none-any.whl (147kB)\n",
            "\u001b[K     |████████████████████████████████| 153kB 4.5MB/s \n",
            "\u001b[?25hCollecting xxhash\n",
            "\u001b[?25l  Downloading https://files.pythonhosted.org/packages/f7/73/826b19f3594756cb1c6c23d2fbd8ca6a77a9cd3b650c9dec5acc85004c38/xxhash-2.0.0-cp36-cp36m-manylinux2010_x86_64.whl (242kB)\n",
            "\u001b[K     |████████████████████████████████| 245kB 16.3MB/s \n",
            "\u001b[?25hRequirement already satisfied: requests>=2.19.0 in /usr/local/lib/python3.6/dist-packages (from datasets) (2.23.0)\n",
            "Requirement already satisfied: dill in /usr/local/lib/python3.6/dist-packages (from datasets) (0.3.2)\n",
            "Requirement already satisfied: tqdm<4.50.0,>=4.27 in /usr/local/lib/python3.6/dist-packages (from datasets) (4.41.1)\n",
            "Requirement already satisfied: filelock in /usr/local/lib/python3.6/dist-packages (from datasets) (3.0.12)\n",
            "Requirement already satisfied: multiprocess in /usr/local/lib/python3.6/dist-packages (from datasets) (0.70.10)\n",
            "Requirement already satisfied: numpy>=1.17 in /usr/local/lib/python3.6/dist-packages (from datasets) (1.18.5)\n",
            "Requirement already satisfied: dataclasses; python_version < \"3.7\" in /usr/local/lib/python3.6/dist-packages (from datasets) (0.7)\n",
            "Collecting pyarrow>=0.17.1\n",
            "\u001b[?25l  Downloading https://files.pythonhosted.org/packages/d7/e1/27958a70848f8f7089bff8d6ebe42519daf01f976d28b481e1bfd52c8097/pyarrow-2.0.0-cp36-cp36m-manylinux2014_x86_64.whl (17.7MB)\n",
            "\u001b[K     |████████████████████████████████| 17.7MB 200kB/s \n",
            "\u001b[?25hRequirement already satisfied: pandas in /usr/local/lib/python3.6/dist-packages (from datasets) (1.1.2)\n",
            "Requirement already satisfied: urllib3!=1.25.0,!=1.25.1,<1.26,>=1.21.1 in /usr/local/lib/python3.6/dist-packages (from requests>=2.19.0->datasets) (1.24.3)\n",
            "Requirement already satisfied: certifi>=2017.4.17 in /usr/local/lib/python3.6/dist-packages (from requests>=2.19.0->datasets) (2020.6.20)\n",
            "Requirement already satisfied: chardet<4,>=3.0.2 in /usr/local/lib/python3.6/dist-packages (from requests>=2.19.0->datasets) (3.0.4)\n",
            "Requirement already satisfied: idna<3,>=2.5 in /usr/local/lib/python3.6/dist-packages (from requests>=2.19.0->datasets) (2.10)\n",
            "Requirement already satisfied: pytz>=2017.2 in /usr/local/lib/python3.6/dist-packages (from pandas->datasets) (2018.9)\n",
            "Requirement already satisfied: python-dateutil>=2.7.3 in /usr/local/lib/python3.6/dist-packages (from pandas->datasets) (2.8.1)\n",
            "Requirement already satisfied: six>=1.5 in /usr/local/lib/python3.6/dist-packages (from python-dateutil>=2.7.3->pandas->datasets) (1.15.0)\n",
            "Installing collected packages: xxhash, pyarrow, datasets\n",
            "  Found existing installation: pyarrow 0.14.1\n",
            "    Uninstalling pyarrow-0.14.1:\n",
            "      Successfully uninstalled pyarrow-0.14.1\n",
            "Successfully installed datasets-1.1.2 pyarrow-2.0.0 xxhash-2.0.0\n"
          ],
          "name": "stdout"
        }
      ]
    },
    {
      "cell_type": "code",
      "metadata": {
        "id": "ezKmuishE6W0",
        "outputId": "a1e596c1-d2fa-4b74-9e34-376123e84ab5",
        "colab": {
          "base_uri": "https://localhost:8080/",
          "height": 302
        }
      },
      "source": [
        "!pip install pdoc3"
      ],
      "execution_count": null,
      "outputs": [
        {
          "output_type": "stream",
          "text": [
            "Collecting pdoc3\n",
            "\u001b[?25l  Downloading https://files.pythonhosted.org/packages/67/68/ce1035e720f1c5b80372164c389907d26cb488d600b42d136c75f587a427/pdoc3-0.9.1.tar.gz (83kB)\n",
            "\u001b[K     |████████████████████████████████| 92kB 3.9MB/s \n",
            "\u001b[?25hCollecting mako\n",
            "\u001b[?25l  Downloading https://files.pythonhosted.org/packages/a6/37/0e706200d22172eb8fa17d68a7ae22dec7631a0a92266634fb518a88a5b2/Mako-1.1.3-py2.py3-none-any.whl (75kB)\n",
            "\u001b[K     |████████████████████████████████| 81kB 8.9MB/s \n",
            "\u001b[?25hRequirement already satisfied: markdown>=3.0 in /usr/local/lib/python3.6/dist-packages (from pdoc3) (3.2.2)\n",
            "Requirement already satisfied: MarkupSafe>=0.9.2 in /usr/local/lib/python3.6/dist-packages (from mako->pdoc3) (1.1.1)\n",
            "Requirement already satisfied: importlib-metadata; python_version < \"3.8\" in /usr/local/lib/python3.6/dist-packages (from markdown>=3.0->pdoc3) (2.0.0)\n",
            "Requirement already satisfied: zipp>=0.5 in /usr/local/lib/python3.6/dist-packages (from importlib-metadata; python_version < \"3.8\"->markdown>=3.0->pdoc3) (3.2.0)\n",
            "Building wheels for collected packages: pdoc3\n",
            "  Building wheel for pdoc3 (setup.py) ... \u001b[?25l\u001b[?25hdone\n",
            "  Created wheel for pdoc3: filename=pdoc3-0.9.1-cp36-none-any.whl size=115994 sha256=a9756e8db9cb5a49791cbec5471832c75dbf2e9a04805ec46dd7077a98256dfa\n",
            "  Stored in directory: /root/.cache/pip/wheels/84/0d/9e/b10defcfc3a3b76999ea945f0d57047340456e966e2184a451\n",
            "Successfully built pdoc3\n",
            "Installing collected packages: mako, pdoc3\n",
            "Successfully installed mako-1.1.3 pdoc3-0.9.1\n"
          ],
          "name": "stdout"
        }
      ]
    },
    {
      "cell_type": "code",
      "metadata": {
        "id": "JaLp1BiBEJ8B",
        "outputId": "3410c698-1925-4411-be12-01963e8b9b99",
        "colab": {
          "base_uri": "https://localhost:8080/",
          "height": 188
        }
      },
      "source": [
        "!pdoc --html Embeddings_Retrieval.py"
      ],
      "execution_count": null,
      "outputs": [
        {
          "output_type": "stream",
          "text": [
            "/usr/local/lib/python3.6/dist-packages/IPython/utils/module_paths.py:29: DeprecationWarning: the imp module is deprecated in favour of importlib; see the module's documentation for alternative uses\n",
            "  import imp\n",
            "2020-10-24 19:26:54.323476: I tensorflow/stream_executor/platform/default/dso_loader.cc:48] Successfully opened dynamic library libcudart.so.10.1\n",
            "[nltk_data] Downloading package wordnet to /root/nltk_data...\n",
            "[nltk_data]   Package wordnet is already up-to-date!\n",
            "[nltk_data] Downloading package stopwords to /root/nltk_data...\n",
            "[nltk_data]   Package stopwords is already up-to-date!\n",
            "<unknown>:15: DeprecationWarning: invalid escape sequence \\[\n",
            "html/Embeddings_Retrieval.html\n"
          ],
          "name": "stdout"
        }
      ]
    },
    {
      "cell_type": "code",
      "metadata": {
        "id": "e-MpmpFD8XSC",
        "outputId": "beb2a050-0320-49a2-f4f8-c79f3cd7ea79",
        "colab": {
          "base_uri": "https://localhost:8080/",
          "height": 84
        }
      },
      "source": [
        "#Library to get Bert Embeddings\n",
        "!pip install bert-embedding --no-deps"
      ],
      "execution_count": null,
      "outputs": [
        {
          "output_type": "stream",
          "text": [
            "Collecting bert-embedding\n",
            "  Downloading https://files.pythonhosted.org/packages/62/85/e0d56e29a055d8b3ba6da6e52afe404f209453057de95b90c01475c3ff75/bert_embedding-1.0.1-py3-none-any.whl\n",
            "Installing collected packages: bert-embedding\n",
            "Successfully installed bert-embedding-1.0.1\n"
          ],
          "name": "stdout"
        }
      ]
    },
    {
      "cell_type": "code",
      "metadata": {
        "id": "5Uhc_7WK8ZF5",
        "outputId": "258eb712-fa35-4ea3-935e-52fb88d8aed5",
        "colab": {
          "base_uri": "https://localhost:8080/",
          "height": 336
        }
      },
      "source": [
        "#Dependency of Mxnet\n",
        "!pip install gluonnlp"
      ],
      "execution_count": null,
      "outputs": [
        {
          "output_type": "stream",
          "text": [
            "Collecting gluonnlp\n",
            "\u001b[?25l  Downloading https://files.pythonhosted.org/packages/9c/81/a238e47ccba0d7a61dcef4e0b4a7fd4473cb86bed3d84dd4fe28d45a0905/gluonnlp-0.10.0.tar.gz (344kB)\n",
            "\r\u001b[K     |█                               | 10kB 15.3MB/s eta 0:00:01\r\u001b[K     |██                              | 20kB 2.9MB/s eta 0:00:01\r\u001b[K     |██▉                             | 30kB 3.6MB/s eta 0:00:01\r\u001b[K     |███▉                            | 40kB 3.9MB/s eta 0:00:01\r\u001b[K     |████▊                           | 51kB 3.4MB/s eta 0:00:01\r\u001b[K     |█████▊                          | 61kB 3.7MB/s eta 0:00:01\r\u001b[K     |██████▋                         | 71kB 4.2MB/s eta 0:00:01\r\u001b[K     |███████▋                        | 81kB 4.4MB/s eta 0:00:01\r\u001b[K     |████████▋                       | 92kB 4.7MB/s eta 0:00:01\r\u001b[K     |█████████▌                      | 102kB 4.6MB/s eta 0:00:01\r\u001b[K     |██████████▌                     | 112kB 4.6MB/s eta 0:00:01\r\u001b[K     |███████████▍                    | 122kB 4.6MB/s eta 0:00:01\r\u001b[K     |████████████▍                   | 133kB 4.6MB/s eta 0:00:01\r\u001b[K     |█████████████▎                  | 143kB 4.6MB/s eta 0:00:01\r\u001b[K     |██████████████▎                 | 153kB 4.6MB/s eta 0:00:01\r\u001b[K     |███████████████▏                | 163kB 4.6MB/s eta 0:00:01\r\u001b[K     |████████████████▏               | 174kB 4.6MB/s eta 0:00:01\r\u001b[K     |█████████████████▏              | 184kB 4.6MB/s eta 0:00:01\r\u001b[K     |██████████████████              | 194kB 4.6MB/s eta 0:00:01\r\u001b[K     |███████████████████             | 204kB 4.6MB/s eta 0:00:01\r\u001b[K     |████████████████████            | 215kB 4.6MB/s eta 0:00:01\r\u001b[K     |█████████████████████           | 225kB 4.6MB/s eta 0:00:01\r\u001b[K     |█████████████████████▉          | 235kB 4.6MB/s eta 0:00:01\r\u001b[K     |██████████████████████▉         | 245kB 4.6MB/s eta 0:00:01\r\u001b[K     |███████████████████████▉        | 256kB 4.6MB/s eta 0:00:01\r\u001b[K     |████████████████████████▊       | 266kB 4.6MB/s eta 0:00:01\r\u001b[K     |█████████████████████████▊      | 276kB 4.6MB/s eta 0:00:01\r\u001b[K     |██████████████████████████▋     | 286kB 4.6MB/s eta 0:00:01\r\u001b[K     |███████████████████████████▋    | 296kB 4.6MB/s eta 0:00:01\r\u001b[K     |████████████████████████████▌   | 307kB 4.6MB/s eta 0:00:01\r\u001b[K     |█████████████████████████████▌  | 317kB 4.6MB/s eta 0:00:01\r\u001b[K     |██████████████████████████████▍ | 327kB 4.6MB/s eta 0:00:01\r\u001b[K     |███████████████████████████████▍| 337kB 4.6MB/s eta 0:00:01\r\u001b[K     |████████████████████████████████| 348kB 4.6MB/s \n",
            "\u001b[?25hRequirement already satisfied: numpy>=1.16.0 in /usr/local/lib/python3.6/dist-packages (from gluonnlp) (1.18.5)\n",
            "Requirement already satisfied: cython in /usr/local/lib/python3.6/dist-packages (from gluonnlp) (0.29.21)\n",
            "Requirement already satisfied: packaging in /usr/local/lib/python3.6/dist-packages (from gluonnlp) (20.4)\n",
            "Requirement already satisfied: six in /usr/local/lib/python3.6/dist-packages (from packaging->gluonnlp) (1.15.0)\n",
            "Requirement already satisfied: pyparsing>=2.0.2 in /usr/local/lib/python3.6/dist-packages (from packaging->gluonnlp) (2.4.7)\n",
            "Building wheels for collected packages: gluonnlp\n",
            "  Building wheel for gluonnlp (setup.py) ... \u001b[?25l\u001b[?25hdone\n",
            "  Created wheel for gluonnlp: filename=gluonnlp-0.10.0-cp36-cp36m-linux_x86_64.whl size=588533 sha256=ef8605f85e61e8a29b866baa29b4f62a947dcc7f964d87cf1b8395d06221b718\n",
            "  Stored in directory: /root/.cache/pip/wheels/37/65/52/63032864a0f31a08b9a88569f803b5bafac8abd207fd7f7534\n",
            "Successfully built gluonnlp\n",
            "\u001b[31mERROR: bert-embedding 1.0.1 requires mxnet==1.4.0, which is not installed.\u001b[0m\n",
            "\u001b[31mERROR: bert-embedding 1.0.1 requires typing==3.6.6, which is not installed.\u001b[0m\n",
            "\u001b[31mERROR: bert-embedding 1.0.1 has requirement gluonnlp==0.6.0, but you'll have gluonnlp 0.10.0 which is incompatible.\u001b[0m\n",
            "\u001b[31mERROR: bert-embedding 1.0.1 has requirement numpy==1.14.6, but you'll have numpy 1.18.5 which is incompatible.\u001b[0m\n",
            "Installing collected packages: gluonnlp\n",
            "Successfully installed gluonnlp-0.10.0\n"
          ],
          "name": "stdout"
        }
      ]
    },
    {
      "cell_type": "code",
      "metadata": {
        "id": "SqjYwEeQ8bkz",
        "outputId": "150f8148-aa1c-4ea0-8152-fd1e95e29e98",
        "colab": {
          "base_uri": "https://localhost:8080/",
          "height": 151
        }
      },
      "source": [
        "#Interface the cuda API of the gpu decrease the run time from almost 5 hours to 7 minutes\n",
        "!pip install mxnet-cu101"
      ],
      "execution_count": null,
      "outputs": [
        {
          "output_type": "stream",
          "text": [
            "Requirement already satisfied: mxnet-cu101 in /usr/local/lib/python3.6/dist-packages (1.7.0)\n",
            "Requirement already satisfied: numpy<2.0.0,>1.16.0 in /usr/local/lib/python3.6/dist-packages (from mxnet-cu101) (1.18.5)\n",
            "Requirement already satisfied: requests<3,>=2.20.0 in /usr/local/lib/python3.6/dist-packages (from mxnet-cu101) (2.23.0)\n",
            "Requirement already satisfied: graphviz<0.9.0,>=0.8.1 in /usr/local/lib/python3.6/dist-packages (from mxnet-cu101) (0.8.4)\n",
            "Requirement already satisfied: certifi>=2017.4.17 in /usr/local/lib/python3.6/dist-packages (from requests<3,>=2.20.0->mxnet-cu101) (2020.6.20)\n",
            "Requirement already satisfied: urllib3!=1.25.0,!=1.25.1,<1.26,>=1.21.1 in /usr/local/lib/python3.6/dist-packages (from requests<3,>=2.20.0->mxnet-cu101) (1.24.3)\n",
            "Requirement already satisfied: chardet<4,>=3.0.2 in /usr/local/lib/python3.6/dist-packages (from requests<3,>=2.20.0->mxnet-cu101) (3.0.4)\n",
            "Requirement already satisfied: idna<3,>=2.5 in /usr/local/lib/python3.6/dist-packages (from requests<3,>=2.20.0->mxnet-cu101) (2.10)\n"
          ],
          "name": "stdout"
        }
      ]
    },
    {
      "cell_type": "code",
      "metadata": {
        "id": "K-RDVC7tN3F2",
        "outputId": "4254b2c3-475a-4988-8bd6-7fd4a06b2f95",
        "colab": {
          "base_uri": "https://localhost:8080/",
          "height": 84
        }
      },
      "source": [
        "import re                                   #Regular Expression\n",
        "import nltk                                 #For Lemmatizationa and stopwords removal\n",
        "import mxnet as mx                          #For interfacing cuda \n",
        "import numpy as np                          #Array Data Structure and Cosine Score\n",
        "from datasets import load_dataset           #load_dataset function form 'dataset' library to load dataset\n",
        "from nltk.corpus import stopwords           #Get stopwords\n",
        "from bert_embedding import BertEmbedding    #BertEmbeddings function gives embeddings\n",
        "from nltk.stem import WordNetLemmatizer \n",
        "\n",
        "nltk.download('wordnet')\n",
        "nltk.download('stopwords')\n",
        "lemmatizer = WordNetLemmatizer()\n",
        "STOPWORDS = set(stopwords.words('english'))\n",
        "BAD_SYMBOLS_RE = re.compile('[^0-9a-z #+_]')\n",
        "REPLACE_BY_SPACE_RE = re.compile('[/(){}\\[\\]\\|@,;!@]')"
      ],
      "execution_count": null,
      "outputs": [
        {
          "output_type": "stream",
          "text": [
            "[nltk_data] Downloading package wordnet to /root/nltk_data...\n",
            "[nltk_data]   Package wordnet is already up-to-date!\n",
            "[nltk_data] Downloading package stopwords to /root/nltk_data...\n",
            "[nltk_data]   Package stopwords is already up-to-date!\n"
          ],
          "name": "stdout"
        }
      ]
    },
    {
      "cell_type": "code",
      "metadata": {
        "id": "MASEWyxV8f9d"
      },
      "source": [
        "def preprocess(text):\n",
        "    \"\"\"\n",
        "    string: a string\\n\n",
        "    return: preprocessed string\\n\n",
        "    Takes text as input and \\n\n",
        "        1) Makes everything lower case.\\n\n",
        "        2) Deletes '[/(){}\\[\\]\\|@,;!@]' and then '[^0-9a-z #+_]'.\\n\n",
        "        3) Removes StopWords.\\n\n",
        "        4) Lemmatizes every word.\\n\n",
        "    \"\"\"\n",
        "    text = text.lower()\n",
        "    text = REPLACE_BY_SPACE_RE.sub(\" \" , text)  # replace REPLACE_BY_SPACE_RE symbols by space in text\n",
        "    text = BAD_SYMBOLS_RE.sub(\"\", text)         # delete symbols which are in BAD_SYMBOLS_RE from text\n",
        "    textlist = text.split()\n",
        "    text = [wrd for wrd in textlist if wrd not in STOPWORDS]\n",
        "    text = \" \".join(text)\n",
        "    \n",
        "    #Lemmatize\n",
        "    lem_words = []\n",
        "    for word in text.split():\n",
        "        lem_words.append(lemmatizer.lemmatize(word))\n",
        "    return \" \".join(lem_words)"
      ],
      "execution_count": null,
      "outputs": []
    },
    {
      "cell_type": "code",
      "metadata": {
        "id": "I6WOJSoe8lKL"
      },
      "source": [
        "def load_dataset_and_preprocess():\n",
        "    \"\"\"\n",
        "    Input:None\\n\n",
        "    Load dataset and preprocess it\\n\n",
        "    Output:Dataset and preprocessed Dataset\\n\n",
        "    \"\"\"\n",
        "    dataset = load_dataset(\"aeslc\")\n",
        "    \"\"\"Load the Dataset\"\"\"\n",
        "    emails = dataset['train'][:]['email_body']\n",
        "    \"\"\"Training Emails in the dataset\"\"\"\n",
        "    #unpreprocessed\n",
        "    email_sent = []\n",
        "    \"\"\"Array of sentences in the emails\"\"\"\n",
        "    for i in range(len(emails)):\n",
        "        email_sent.append([i for i in emails[i].split('\\n') if len(i)!=0 ])\n",
        "\n",
        "    #preprocessed\n",
        "    corpus = []\n",
        "    \"\"\"Hold the Preprocessed Corpus\"\"\"\n",
        "    for email in emails:\n",
        "        email = email.split(\"\\n\")\n",
        "        preprocessed_sentence=[]\n",
        "        for i in range(len(email)):\n",
        "            if len(email[i]) > 0:\n",
        "                prep_s = preprocess(email[i])\n",
        "                if len(prep_s) > 0:\n",
        "                    preprocessed_sentence.append(prep_s)\n",
        "        corpus.append(preprocessed_sentence)\n",
        "    return email_sent, corpus"
      ],
      "execution_count": null,
      "outputs": []
    },
    {
      "cell_type": "markdown",
      "metadata": {
        "id": "iR44bGbIjdYm"
      },
      "source": [
        "# BERT"
      ]
    },
    {
      "cell_type": "code",
      "metadata": {
        "id": "Nt5l2Lby9PsX"
      },
      "source": [
        "def build_bert_embeddings_index(corpus):\n",
        "    \"\"\"\n",
        "    Input: Dataset as corpus\\n\n",
        "    Build BERT Embeddings of sentences averaged over words in each sentence and index them\\n\n",
        "    Output: Embeddings of each sentence in Dataset\\n\n",
        "    \"\"\"\n",
        "    try:\n",
        "        ctx = mx.gpu(0)\n",
        "        \"\"\"Set context to GPU on Mxnet\"\"\"\n",
        "        be = BertEmbedding(ctx=ctx)\n",
        "        \"\"\"Function to get embeddings of each word in array of sentences \"\"\"\n",
        "    except:\n",
        "        be = BertEmbedding()\n",
        "    embeddings = []\n",
        "    \"\"\"Store all the Sentence Embeddings in the corpus\"\"\"\n",
        "    for email in range(len(corpus)):\n",
        "        printc=True\n",
        "        for i in be(corpus[email]):\n",
        "            if email%500==0 and printc:\n",
        "                print(\"Iteration: \", email)\n",
        "                printc=False\n",
        "            try:\n",
        "                embeddings.append(sum(i[1])/len(i[1]))\n",
        "            except:\n",
        "                print(i, email, corpus[email])\n",
        "    return embeddings, be"
      ],
      "execution_count": null,
      "outputs": []
    },
    {
      "cell_type": "code",
      "metadata": {
        "id": "OQhIM14wF6wd"
      },
      "source": [
        "def build_reference(corpus):\n",
        "    \"\"\"\n",
        "    Input: Dataset as corpus\\n\n",
        "    Build reference of each line to email and starting line of the email.\\n\n",
        "    Output: Reference index from line to email \\n\n",
        "    \"\"\"\n",
        "    indx_to_email = dict()\n",
        "    \"\"\"Dictionary to refer the corpus line number (l) to the Email number and the fist line number of the email\"\"\"\n",
        "    l=0\n",
        "    for indx_email in range(len(corpus)):\n",
        "        start = l\n",
        "        for j in range(len(corpus[indx_email])):\n",
        "            indx_to_email[l]=(start, indx_email)\n",
        "            l+=1\n",
        "    return indx_to_email"
      ],
      "execution_count": null,
      "outputs": []
    },
    {
      "cell_type": "code",
      "metadata": {
        "id": "Zq91qP3xTt1g"
      },
      "source": [
        "def find_email(i_email, unprep, highlight_line=None):\n",
        "    \"\"\"\n",
        "    Input:Index of email and the email dataset, optional line number to highlight\\n\n",
        "    Prints the email with optional highlighted line\\n\n",
        "    Output: Prints the same\\n\n",
        "    \"\"\"\n",
        "    for i in range(len(unprep[i_email])):\n",
        "        if i==highlight_line:\n",
        "            print('\\33[34m' + unprep[i_email][i] + '\\033[0m')\n",
        "        else:\n",
        "            print(unprep[i_email][i])"
      ],
      "execution_count": null,
      "outputs": []
    },
    {
      "cell_type": "code",
      "metadata": {
        "id": "vpel_3ADUIyo"
      },
      "source": [
        "def cosine_score(vec1, vec2):\n",
        "    \"\"\"\n",
        "    Input: Two embeddings of same dimentions\\n\n",
        "    Finds the cosine score among them\\n\n",
        "    Output: Cosine Similarity\\n\n",
        "    \"\"\"\n",
        "    try:\n",
        "        if vec1.all() == None or vec2.all() == None:\n",
        "            return 0\n",
        "    except: \n",
        "        return 0\n",
        "    return np.dot(vec1, vec2)/(np.linalg.norm(vec1) * np.linalg.norm(vec2))"
      ],
      "execution_count": null,
      "outputs": []
    },
    {
      "cell_type": "code",
      "metadata": {
        "id": "9-WQp5yzF7ha"
      },
      "source": [
        "def bert_search(query, embeddings, corpus, indx_to_email, top_n=3, is_preprocess=False):  \n",
        "    \"\"\"\n",
        "    Input:Index of email and the email dataset, optional line number to highlight\\n\n",
        "    Prints the email with optional highlighted line\\n\n",
        "    Output: Prints the same\\n\n",
        "    \"\"\"  \n",
        "    try:\n",
        "        ctx = mx.gpu(0)\n",
        "        be = BertEmbedding(ctx=ctx)\n",
        "    except:\n",
        "        be = BertEmbedding()\n",
        "\n",
        "    l = 0\n",
        "    q = query\n",
        "\n",
        "    c = [i for i in q.split('\\n') if len(i)!=0]\n",
        "    \"\"\"Split query per line and then \"\"\"\n",
        "\n",
        "    if is_preprocess:\n",
        "        que = [preprocess(i) for i in q.split('\\n') if len(i)!=0 ] \n",
        "    else: \n",
        "        que = q.split('\\n')\n",
        "    \n",
        "    embedding = be(que)\n",
        "    \"\"\"Array to store the splitted words in the query and their corresponding embeddings\"\"\"\n",
        "    for i in range(len(embedding)):\n",
        "        print(\"\\33[35mQuery {} of {} \\033[0m\".format(l+1, len(embedding)))\n",
        "        e = embedding[i][1]\n",
        "        \"\"\"Array of embeddings of each word in the sentence\"\"\"\n",
        "        sent_embedding = sum(e)/len(e)\n",
        "        \"\"\"Averaged embedding of the sentence\"\"\"\n",
        "        similarity = []\n",
        "        \"\"\"Array to store the similarity with embeddings of each sentence in the corpus\"\"\"\n",
        "        for j in embeddings:\n",
        "            similarity.append(cosine_score(sent_embedding, j))\n",
        "\n",
        "        sim = np.argsort(similarity)[::-1][:top_n]\n",
        "        \"\"\"Array to store the top n similarities\"\"\"\n",
        "        print(\"Query:\", \"\\33[31m\" + c[l] + \"\\033[0m\")\n",
        "        if is_preprocess:\n",
        "            print(\"Preprocessed query:\", \"\\33[31m\" + que[i]+ \"\\033[0m\" \"\\n\")\n",
        "        l+=1\n",
        "        for i in sim:\n",
        "            print(\"\\33[33m\" + \"Cosine Similarity: {:.3f} \\t Email {} \\t Line {} \\033[0m\".format(similarity[i], indx_to_email[i][1], i-indx_to_email[i][0]))\n",
        "            print(\"\\33[34m\" + str(corpus[indx_to_email[i][1]][i-indx_to_email[i][0]]) + '\\033[0m',  \"\\n\")\n",
        "        "
      ],
      "execution_count": null,
      "outputs": []
    },
    {
      "cell_type": "code",
      "metadata": {
        "id": "agR7K1YdhPsu",
        "outputId": "f9478544-bfb0-42d3-b91f-3f020c013bb1",
        "colab": {
          "base_uri": "https://localhost:8080/",
          "height": 267,
          "referenced_widgets": [
            "13cf52d10fa54625b0a263360b17e9bd",
            "51a3283c99bc4795abbeeae8b71b949a",
            "4d26e561e3b04331b5de76b234d2d911",
            "5a54b926fbf346dbbe71544fa10ceeae",
            "d1367a7ac2714ee9aba9a2cf7f8791af",
            "0aaa9bf2b4e048d4b5838c28190ebd83",
            "47fae0cb91f14f6082ad0e10177cd7a1",
            "468827ca10b44e7d9c30a580034e5da8",
            "4ff0aeb83dca44c383f694a3054c4a6b",
            "27bdf11c35c9492db5e79eec2f05d639",
            "af483057b8904f5d860f8b105fdc6b84",
            "8374f360ea1a492593cffd637dd36a0d",
            "0e56366233f94d76bce380ced2e0edf0",
            "cfa5bb24f3fd46bdb2e655ad58814101",
            "abd16e4636b14eaf924881d2ec900764",
            "b2f59b6886254713bd974e99e6770e7d",
            "0bdcd12e02964f9c8bfcd8a3ec18edcd",
            "5fe043b9f128454e8475c2adfa3ae75d",
            "8d59839695124e468fd77b8c6c45beef",
            "f36ff541033347beabbc3905f29cfead",
            "28fd71cf536e48aa91409fb21066b1fc",
            "bcfd46c0f0c7475890a48b94111cf673",
            "70d6103fd9d34210a8bd535839589347",
            "db4a36ae2dd7401bbb80e3bb7565d866",
            "1128ae350e5f4c159e6a66382cb5d8df",
            "04d58223fefe4e129a1e5c4f389ab322",
            "db3523695f3740b4849250f2780e4d0c",
            "1baa4ffe357940beb6839b6fdf55d643",
            "2b5f140567d549f48ef0dee4240a259a",
            "c480284c7c0d45c398075c476a860675",
            "dccb8571ed0044a3a41de22ff9ff27ce",
            "f7e19d8a3b1f44c4ac2c1564c7acaeb5",
            "91b15e7527d34f80a680441d8c3d2747",
            "d950b5d1f3cd44e68575be58a5ff1318",
            "b5b7bcda6c094a8e92d7d411aef6c298",
            "9153315935654198b4bb7dc263e06bca",
            "dffe97ab98954c53852ed23adece8935",
            "766c063fcdff472984d18449bc46fb94",
            "e203d48196e74c91b3dfddb2f604b4b7",
            "7081ea7636df4452895c28478107b5d4",
            "bd387baa1c65400eb35a6cc665ea39b2",
            "a7d6ebf4cc7d4715a68ace4aed33eae6",
            "e2d343b1e94d4b928a8f6b62c3c1b72b",
            "f6bf3dcc0bcf4879a43268369bff4d96",
            "e31a5b76e4ab4a4a8bd957a65f429072",
            "d944c78378b64266b6d9295cba3b8e6e",
            "9be68611f89547d799bdb41dc3dbbb57",
            "69becbd1b8844795b4ef6cc7d1ea99c6"
          ]
        }
      },
      "source": [
        "%%time\n",
        "unprep, prep = load_dataset_and_preprocess()    #Load Dataset"
      ],
      "execution_count": null,
      "outputs": [
        {
          "output_type": "display_data",
          "data": {
            "application/vnd.jupyter.widget-view+json": {
              "model_id": "13cf52d10fa54625b0a263360b17e9bd",
              "version_minor": 0,
              "version_major": 2
            },
            "text/plain": [
              "HBox(children=(FloatProgress(value=0.0, description='Downloading', max=1454.0, style=ProgressStyle(description…"
            ]
          },
          "metadata": {
            "tags": []
          }
        },
        {
          "output_type": "stream",
          "text": [
            "\n"
          ],
          "name": "stdout"
        },
        {
          "output_type": "display_data",
          "data": {
            "application/vnd.jupyter.widget-view+json": {
              "model_id": "4ff0aeb83dca44c383f694a3054c4a6b",
              "version_minor": 0,
              "version_major": 2
            },
            "text/plain": [
              "HBox(children=(FloatProgress(value=0.0, description='Downloading', max=749.0, style=ProgressStyle(description_…"
            ]
          },
          "metadata": {
            "tags": []
          }
        },
        {
          "output_type": "stream",
          "text": [
            "Using custom data configuration default\n"
          ],
          "name": "stderr"
        },
        {
          "output_type": "stream",
          "text": [
            "\n",
            "Downloading and preparing dataset aeslc/default (download: 11.10 MiB, generated: 14.26 MiB, post-processed: Unknown size, total: 25.36 MiB) to /root/.cache/huggingface/datasets/aeslc/default/1.0.0/0f335d7ea7f9ab9e325673a86c6aa0e2cd503c5dbf17d48fddcb02840a92fc96...\n"
          ],
          "name": "stdout"
        },
        {
          "output_type": "display_data",
          "data": {
            "application/vnd.jupyter.widget-view+json": {
              "model_id": "0bdcd12e02964f9c8bfcd8a3ec18edcd",
              "version_minor": 0,
              "version_major": 2
            },
            "text/plain": [
              "HBox(children=(FloatProgress(value=1.0, bar_style='info', description='Downloading', max=1.0, style=ProgressSt…"
            ]
          },
          "metadata": {
            "tags": []
          }
        },
        {
          "output_type": "stream",
          "text": [
            "\n"
          ],
          "name": "stdout"
        },
        {
          "output_type": "display_data",
          "data": {
            "application/vnd.jupyter.widget-view+json": {
              "model_id": "1128ae350e5f4c159e6a66382cb5d8df",
              "version_minor": 0,
              "version_major": 2
            },
            "text/plain": [
              "HBox(children=(FloatProgress(value=1.0, bar_style='info', max=1.0), HTML(value='')))"
            ]
          },
          "metadata": {
            "tags": []
          }
        },
        {
          "output_type": "stream",
          "text": [
            "\r"
          ],
          "name": "stdout"
        },
        {
          "output_type": "display_data",
          "data": {
            "application/vnd.jupyter.widget-view+json": {
              "model_id": "91b15e7527d34f80a680441d8c3d2747",
              "version_minor": 0,
              "version_major": 2
            },
            "text/plain": [
              "HBox(children=(FloatProgress(value=1.0, bar_style='info', max=1.0), HTML(value='')))"
            ]
          },
          "metadata": {
            "tags": []
          }
        },
        {
          "output_type": "stream",
          "text": [
            "\r"
          ],
          "name": "stdout"
        },
        {
          "output_type": "display_data",
          "data": {
            "application/vnd.jupyter.widget-view+json": {
              "model_id": "bd387baa1c65400eb35a6cc665ea39b2",
              "version_minor": 0,
              "version_major": 2
            },
            "text/plain": [
              "HBox(children=(FloatProgress(value=1.0, bar_style='info', max=1.0), HTML(value='')))"
            ]
          },
          "metadata": {
            "tags": []
          }
        },
        {
          "output_type": "stream",
          "text": [
            "\rDataset aeslc downloaded and prepared to /root/.cache/huggingface/datasets/aeslc/default/1.0.0/0f335d7ea7f9ab9e325673a86c6aa0e2cd503c5dbf17d48fddcb02840a92fc96. Subsequent calls will reuse this data.\n",
            "CPU times: user 7.74 s, sys: 1.11 s, total: 8.85 s\n",
            "Wall time: 11.2 s\n"
          ],
          "name": "stdout"
        }
      ]
    },
    {
      "cell_type": "code",
      "metadata": {
        "id": "8br3wywCGZQA",
        "outputId": "ad148911-10a7-4dc2-b4ac-dad28c79db1a",
        "colab": {
          "base_uri": "https://localhost:8080/",
          "height": 608
        }
      },
      "source": [
        "%%time\n",
        "#Build Index for unproprocessed Data\n",
        "unprep_index, be \t\t= build_bert_embeddings_index(unprep)\n",
        "\n",
        "#Building reference\n",
        "unprep_indx_to_email    = build_reference(unprep)"
      ],
      "execution_count": null,
      "outputs": [
        {
          "output_type": "stream",
          "text": [
            "Vocab file is not found. Downloading.\n",
            "Downloading /root/.mxnet/models/8800029470270000882/8800029470270000882_book_corpus_wiki_en_uncased-a6607397.zip from https://apache-mxnet.s3-accelerate.dualstack.amazonaws.com/gluon/dataset/vocab/book_corpus_wiki_en_uncased-a6607397.zip...\n",
            "Downloading /root/.mxnet/models/bert_12_768_12_book_corpus_wiki_en_uncased-75cc780f.zip50e42286-c560-4cf0-ba7b-87b142c46a92 from https://apache-mxnet.s3-accelerate.dualstack.amazonaws.com/gluon/models/bert_12_768_12_book_corpus_wiki_en_uncased-75cc780f.zip...\n",
            "Iteration:  0\n",
            "Iteration:  500\n",
            "Iteration:  1000\n",
            "Iteration:  1500\n",
            "Iteration:  2000\n",
            "Iteration:  2500\n",
            "Iteration:  3000\n",
            "Iteration:  3500\n",
            "Iteration:  4000\n",
            "Iteration:  4500\n",
            "Iteration:  5000\n",
            "Iteration:  5500\n",
            "Iteration:  6000\n",
            "Iteration:  6500\n",
            "Iteration:  7000\n",
            "Iteration:  7500\n",
            "Iteration:  8000\n",
            "Iteration:  8500\n",
            "Iteration:  9000\n",
            "Iteration:  9500\n",
            "Iteration:  10000\n",
            "Iteration:  10500\n",
            "Iteration:  11000\n",
            "Iteration:  11500\n",
            "Iteration:  12000\n",
            "Iteration:  12500\n",
            "Iteration:  13000\n",
            "Iteration:  13500\n",
            "Iteration:  14000\n",
            "CPU times: user 10min 29s, sys: 1min 27s, total: 11min 56s\n",
            "Wall time: 7min 35s\n"
          ],
          "name": "stdout"
        }
      ]
    },
    {
      "cell_type": "code",
      "metadata": {
        "id": "mncgyGvmZ92-",
        "outputId": "02c56f00-1867-41d5-81f2-82a2c3cdb9e5",
        "colab": {
          "base_uri": "https://localhost:8080/",
          "height": 538
        }
      },
      "source": [
        "%%time\n",
        "#Build Index for preprocessed Data\n",
        "preprocessed_index, be \t        = build_bert_embeddings_index(prep)\n",
        "\n",
        "#Building reference\n",
        "prep_indx_to_email \t            = build_reference(prep)"
      ],
      "execution_count": null,
      "outputs": [
        {
          "output_type": "stream",
          "text": [
            "Iteration:  0\n",
            "Iteration:  500\n",
            "Iteration:  1000\n",
            "Iteration:  1500\n",
            "Iteration:  2000\n",
            "Iteration:  2500\n",
            "Iteration:  3000\n",
            "Iteration:  3500\n",
            "Iteration:  4000\n",
            "Iteration:  4500\n",
            "Iteration:  5000\n",
            "Iteration:  5500\n",
            "Iteration:  6000\n",
            "Iteration:  6500\n",
            "Iteration:  7000\n",
            "Iteration:  7500\n",
            "Iteration:  8000\n",
            "Iteration:  8500\n",
            "Iteration:  9000\n",
            "Iteration:  9500\n",
            "Iteration:  10000\n",
            "Iteration:  10500\n",
            "Iteration:  11000\n",
            "Iteration:  11500\n",
            "Iteration:  12000\n",
            "Iteration:  12500\n",
            "Iteration:  13000\n",
            "Iteration:  13500\n",
            "Iteration:  14000\n",
            "CPU times: user 10min 16s, sys: 1min 25s, total: 11min 42s\n",
            "Wall time: 7min 1s\n"
          ],
          "name": "stdout"
        }
      ]
    },
    {
      "cell_type": "code",
      "metadata": {
        "id": "IBCnVTUc9SRC",
        "outputId": "169a2335-3841-4d81-a683-5f50d11214ff",
        "colab": {
          "base_uri": "https://localhost:8080/",
          "height": 50
        }
      },
      "source": [
        "%%time\n",
        "#Save Data to PKL file\n",
        "import pickle\n",
        "\n",
        "with open('preprocessed_index.pkl', 'wb') as fp:\n",
        "    pickle.dump(preprocessed_index, fp) \n",
        "\n",
        "with open('unprep_index.pkl', 'wb') as fp:\n",
        "    pickle.dump(unprep_index, fp) \n",
        "len(unprep_index), len(preprocessed_index)"
      ],
      "execution_count": null,
      "outputs": [
        {
          "output_type": "stream",
          "text": [
            "CPU times: user 1.74 s, sys: 1.26 s, total: 2.99 s\n",
            "Wall time: 3.83 s\n"
          ],
          "name": "stdout"
        }
      ]
    },
    {
      "cell_type": "code",
      "metadata": {
        "id": "OnhA7cQq9-y6",
        "outputId": "27b2888e-6947-4e40-8319-ea4a57ee1653",
        "colab": {
          "base_uri": "https://localhost:8080/",
          "height": 50
        }
      },
      "source": [
        "%%time\n",
        "import pickle\n",
        "with open ('preprocessed_index.pkl', 'rb') as fp:\n",
        "    preprocessed_index = pickle.load(fp)\n",
        "\n",
        "with open ('unprep_index.pkl', 'rb') as fp:\n",
        "    unprep_index = pickle.load(fp)\n",
        "len(unprep_index), len(preprocessed_index)"
      ],
      "execution_count": null,
      "outputs": [
        {
          "output_type": "stream",
          "text": [
            "CPU times: user 797 ms, sys: 316 ms, total: 1.11 s\n",
            "Wall time: 1.12 s\n"
          ],
          "name": "stdout"
        }
      ]
    },
    {
      "cell_type": "markdown",
      "metadata": {
        "id": "-582BU7ulSuK"
      },
      "source": [
        "#Glove"
      ]
    },
    {
      "cell_type": "code",
      "metadata": {
        "id": "mJypGOMVlXpE",
        "outputId": "fc07be7d-9168-4187-97a4-e0e1a057a73f",
        "colab": {
          "base_uri": "https://localhost:8080/",
          "height": 151
        }
      },
      "source": [
        "!wget http://downloads.cs.stanford.edu/nlp/data/glove.6B.zip"
      ],
      "execution_count": null,
      "outputs": [
        {
          "output_type": "stream",
          "text": [
            "--2020-10-24 19:11:43--  http://downloads.cs.stanford.edu/nlp/data/glove.6B.zip\n",
            "Resolving downloads.cs.stanford.edu (downloads.cs.stanford.edu)... 171.64.64.22\n",
            "Connecting to downloads.cs.stanford.edu (downloads.cs.stanford.edu)|171.64.64.22|:80... connected.\n",
            "HTTP request sent, awaiting response... 200 OK\n",
            "Length: 862182613 (822M) [application/zip]\n",
            "Saving to: ‘glove.6B.zip.1’\n",
            "\n",
            "glove.6B.zip.1       49%[========>           ] 406.11M  1.93MB/s    eta 3m 5s  ^C\n"
          ],
          "name": "stdout"
        }
      ]
    },
    {
      "cell_type": "code",
      "metadata": {
        "id": "fEKIOXfllbVH",
        "outputId": "e56060c6-b40a-4a31-cfef-70ba7bf6473b",
        "colab": {
          "base_uri": "https://localhost:8080/",
          "height": 50
        }
      },
      "source": [
        "!unzip glove.6B.zip"
      ],
      "execution_count": null,
      "outputs": [
        {
          "output_type": "stream",
          "text": [
            "Archive:  glove.6B.zip\n",
            "replace glove.6B.50d.txt? [y]es, [n]o, [A]ll, [N]one, [r]ename: "
          ],
          "name": "stdout"
        }
      ]
    },
    {
      "cell_type": "code",
      "metadata": {
        "id": "0dqqVeeElR7O"
      },
      "source": [
        "def init_glove_embeddings(dimentions=300):\n",
        "    \"\"\"\n",
        "    Input: Dimentions of the Embeddings to use\\n\n",
        "    Builds the glove embeddings in a dicyionary from the file\\n\n",
        "    Output: Dictionary of the pretrained dictionary\\n\n",
        "    \"\"\"\n",
        "    glove_embeddings = {}\n",
        "    \"\"\"Dictionary to store the embeddings from Glove file\"\"\"\n",
        "    with open(\"glove.6B.\"+str(dimentions)+\"d.txt\", 'r') as f:\n",
        "        for line in f:\n",
        "            values = line.split()\n",
        "            word = values[0]\n",
        "            vector = np.asarray(values[1:], \"float32\")\n",
        "            glove_embeddings[word] = vector\n",
        "    return glove_embeddings"
      ],
      "execution_count": null,
      "outputs": []
    },
    {
      "cell_type": "code",
      "metadata": {
        "id": "ykJra9eplgZH"
      },
      "source": [
        "def glove_embed(sent):\n",
        "    \"\"\"\n",
        "    Input: Sentence as string\\n\n",
        "    Finds the glove embeddings of each word and adds it for each sentence\\n\n",
        "    Output: Embeddings and the length of words taken to form the embeddings\\n\n",
        "    \"\"\"\n",
        "    sent = sent.lower()\n",
        "    embeddings = [0 for _ in embeddings_dict[\"king\"]]\n",
        "    \"\"\"Array to store query embeddings initialized to 0\"\"\"\n",
        "    length = 0\n",
        "    for word in sent.split():\n",
        "        try:\n",
        "            embeddings+=embeddings_dict[word]\n",
        "            length+=1\n",
        "        except:\n",
        "            pass\n",
        "            \n",
        "    return embeddings, length"
      ],
      "execution_count": null,
      "outputs": []
    },
    {
      "cell_type": "code",
      "metadata": {
        "id": "JSQwe_gclgzE"
      },
      "source": [
        "def build_glove_index(corpus):\n",
        "    \"\"\"\n",
        "    Input: Corpus\\n\n",
        "    Builds the index of embeddings of each sentence in the corpus\\n\n",
        "    Output: Embddeings Index of each sentence in the corpus\\n\n",
        "    \"\"\"\n",
        "    embeddings = []\n",
        "    \"\"\"Array to store the sentence Embeddings of the dataset\"\"\"\n",
        "    sentence_corpus = []\n",
        "    \"\"\"Array of strings to store the sentence in the corpus\"\"\"\n",
        "    for email in range(len(corpus)):\n",
        "        printc=True\n",
        "        for i in corpus[email]:\n",
        "            sentence_corpus.append(i)\n",
        "            j, length = glove_embed(i)\n",
        "            if length<= 0:\n",
        "                embeddings.append(None)\n",
        "                continue\n",
        "            if email%1000==0 and printc:\n",
        "                print(\"Iteration: \", email)\n",
        "                printc=False\n",
        "            try:\n",
        "                embeddings.append(j/length)\n",
        "            except:\n",
        "                print(i, email)\n",
        "    assert len(embeddings) == len(sentence_corpus)\n",
        "    return embeddings, sentence_corpus"
      ],
      "execution_count": null,
      "outputs": []
    },
    {
      "cell_type": "code",
      "metadata": {
        "id": "xbyQznKMliTP"
      },
      "source": [
        "def glove_search(query, embeddings, sentence_corpus, indx_to_email, is_preprocess=False, top_n=2):\n",
        "    \"\"\"\n",
        "    Input: query to search, Sentence corpus to search in , top n results\\n\n",
        "    Searches with cosing similarity among the embeddings\\n\n",
        "    Output: most similar items to query\\n\n",
        "    \"\"\"\n",
        "    q_emb = []\n",
        "    \"\"\"Store the Embddings of the query\"\"\"\n",
        "    print(\"Query:\", \"\\33[31m\" + query + \"\\033[0m\")\n",
        "    if is_preprocess:\n",
        "        query=preprocess(query)\n",
        "        print(\"Preprocessed Query:\", \"\\33[31m\" + query + \"\\033[0m \")\n",
        "    j, length = glove_embed(query.lower())\n",
        "    \n",
        "    if length<= 0:\n",
        "        print(\"Sent not found\",  i)\n",
        "        q_emb.append(None)\n",
        "    try:\n",
        "        q_emb.append(j/length)\n",
        "    except:\n",
        "        print(i, email)\n",
        "    similarity = []\n",
        "    for emb in range(len(embeddings)):\n",
        "        score = cosine_score(embeddings[emb], q_emb[0])\n",
        "        similarity.append(cosine_score(embeddings[emb], q_emb[0]))\n",
        "    sim = np.argsort(similarity)[::-1][:top_n]\n",
        "    for i in sim:\n",
        "            print(\"\\33[33m\" + \"Cosine Similarity: {:.3f} \\t Email {} \\t Line {} \\033[0m\".format(similarity[i], indx_to_email[i][1], i-indx_to_email[i][0]))\n",
        "            print(\"\\33[34m\" + str(sentence_corpus[indx_to_email[i][1]][i-indx_to_email[i][0]]) + '\\033[0m',  \"\\n\")"
      ],
      "execution_count": null,
      "outputs": []
    },
    {
      "cell_type": "code",
      "metadata": {
        "id": "dUFZu7XVlk2p",
        "outputId": "1c15a791-564f-407b-d9e8-d85ad2ca5ab5",
        "colab": {
          "base_uri": "https://localhost:8080/",
          "height": 336
        }
      },
      "source": [
        "%%time\n",
        "embeddings_dict  = init_glove_embeddings()\n",
        "unprep, prep = load_dataset_and_preprocess()\n",
        "prep_embeddings, prep_sentence = build_glove_index(prep)"
      ],
      "execution_count": null,
      "outputs": [
        {
          "output_type": "stream",
          "text": [
            "Using custom data configuration default\n",
            "Reusing dataset aeslc (/root/.cache/huggingface/datasets/aeslc/default/1.0.0/0f335d7ea7f9ab9e325673a86c6aa0e2cd503c5dbf17d48fddcb02840a92fc96)\n"
          ],
          "name": "stderr"
        },
        {
          "output_type": "stream",
          "text": [
            "Iteration:  0\n",
            "Iteration:  1000\n",
            "Iteration:  2000\n",
            "Iteration:  3000\n",
            "Iteration:  4000\n",
            "Iteration:  5000\n",
            "Iteration:  6000\n",
            "Iteration:  7000\n",
            "Iteration:  8000\n",
            "Iteration:  9000\n",
            "Iteration:  10000\n",
            "Iteration:  11000\n",
            "Iteration:  12000\n",
            "Iteration:  13000\n",
            "Iteration:  14000\n",
            "CPU times: user 35.3 s, sys: 809 ms, total: 36.1 s\n",
            "Wall time: 36.5 s\n"
          ],
          "name": "stdout"
        }
      ]
    },
    {
      "cell_type": "code",
      "metadata": {
        "id": "ctVE8_uJoyx7",
        "outputId": "686d985c-b953-475d-fab0-7d708059e899",
        "colab": {
          "base_uri": "https://localhost:8080/",
          "height": 84
        }
      },
      "source": [
        "%%time\n",
        "unprep, prep = load_dataset_and_preprocess()"
      ],
      "execution_count": null,
      "outputs": [
        {
          "output_type": "stream",
          "text": [
            "Using custom data configuration default\n",
            "Reusing dataset aeslc (/root/.cache/huggingface/datasets/aeslc/default/1.0.0/0f335d7ea7f9ab9e325673a86c6aa0e2cd503c5dbf17d48fddcb02840a92fc96)\n"
          ],
          "name": "stderr"
        },
        {
          "output_type": "stream",
          "text": [
            "CPU times: user 4.07 s, sys: 14.8 ms, total: 4.08 s\n",
            "Wall time: 4.43 s\n"
          ],
          "name": "stdout"
        }
      ]
    },
    {
      "cell_type": "code",
      "metadata": {
        "id": "NlqKD_PusxsN",
        "outputId": "f16bb796-dc08-4d20-939d-56acd7ec8a3b",
        "colab": {
          "base_uri": "https://localhost:8080/",
          "height": 302
        }
      },
      "source": [
        "%%time\n",
        "prep_embeddings, prep_sentence = build_glove_index(prep)"
      ],
      "execution_count": null,
      "outputs": [
        {
          "output_type": "stream",
          "text": [
            "Iteration:  0\n",
            "Iteration:  1000\n",
            "Iteration:  2000\n",
            "Iteration:  3000\n",
            "Iteration:  4000\n",
            "Iteration:  5000\n",
            "Iteration:  6000\n",
            "Iteration:  7000\n",
            "Iteration:  8000\n",
            "Iteration:  9000\n",
            "Iteration:  10000\n",
            "Iteration:  11000\n",
            "Iteration:  12000\n",
            "Iteration:  13000\n",
            "Iteration:  14000\n",
            "CPU times: user 7.26 s, sys: 76.9 ms, total: 7.34 s\n",
            "Wall time: 7.34 s\n"
          ],
          "name": "stdout"
        }
      ]
    },
    {
      "cell_type": "code",
      "metadata": {
        "id": "Q2spIatBtNB7",
        "outputId": "4e485cf8-e094-4e96-944e-c56900b9f66f",
        "colab": {
          "base_uri": "https://localhost:8080/",
          "height": 336
        }
      },
      "source": [
        "%%time\n",
        "embeddings_dict  = init_glove_embeddings()\n",
        "unprep, prep = load_dataset_and_preprocess()\n",
        "unprep_embeddings, unprep_sentence = build_glove_index(unprep)"
      ],
      "execution_count": null,
      "outputs": [
        {
          "output_type": "stream",
          "text": [
            "Using custom data configuration default\n",
            "Reusing dataset aeslc (/root/.cache/huggingface/datasets/aeslc/default/1.0.0/0f335d7ea7f9ab9e325673a86c6aa0e2cd503c5dbf17d48fddcb02840a92fc96)\n"
          ],
          "name": "stderr"
        },
        {
          "output_type": "stream",
          "text": [
            "Iteration:  0\n",
            "Iteration:  1000\n",
            "Iteration:  2000\n",
            "Iteration:  3000\n",
            "Iteration:  4000\n",
            "Iteration:  5000\n",
            "Iteration:  6000\n",
            "Iteration:  7000\n",
            "Iteration:  8000\n",
            "Iteration:  9000\n",
            "Iteration:  10000\n",
            "Iteration:  11000\n",
            "Iteration:  12000\n",
            "Iteration:  13000\n",
            "Iteration:  14000\n",
            "CPU times: user 36.5 s, sys: 492 ms, total: 36.9 s\n",
            "Wall time: 37.2 s\n"
          ],
          "name": "stdout"
        }
      ]
    },
    {
      "cell_type": "code",
      "metadata": {
        "id": "yrHhZN5U35TI"
      },
      "source": [
        "#Building reference\n",
        "unprep_indx_to_email    = build_reference(unprep)\n",
        "\n",
        "prep_indx_to_email \t            = build_reference(prep)"
      ],
      "execution_count": null,
      "outputs": []
    },
    {
      "cell_type": "markdown",
      "metadata": {
        "id": "Swu4a8yq100s"
      },
      "source": [
        "# query = unprep[10007][3]\n",
        "# query = unprep[10069][3]\n",
        "\n"
      ]
    },
    {
      "cell_type": "code",
      "metadata": {
        "id": "tQCmXlzls3x8",
        "outputId": "46dd495c-b31d-4bdc-caaf-d01562b77f92",
        "colab": {
          "base_uri": "https://localhost:8080/",
          "height": 269
        }
      },
      "source": [
        "%%time\n",
        "query = \"I want the work to be submitted by this weekend\"\n",
        "glove_search(query, unprep_embeddings, unprep, unprep_indx_to_email, is_preprocess=False, top_n=4)"
      ],
      "execution_count": null,
      "outputs": [
        {
          "output_type": "stream",
          "text": [
            "Query: \u001b[31mI want the work to be submitted by this weekend\u001b[0m\n",
            "\u001b[33mCosine Similarity: 0.962 \t Email 8029 \t Line 1 \u001b[0m\n",
            "\u001b[34mThey want the regular ones to be done by the end of next week, and  Sherry's has to be done by Jan 19, 2001.\u001b[0m \n",
            "\n",
            "\u001b[33mCosine Similarity: 0.962 \t Email 13139 \t Line 3 \u001b[0m\n",
            "\u001b[34mI will be out of the office on Friday and Monday, and so if you wish to discuss the presentation with me beforehand, it will be best if we speak by Thursday.\u001b[0m \n",
            "\n",
            "\u001b[33mCosine Similarity: 0.961 \t Email 4764 \t Line 3 \u001b[0m\n",
            "\u001b[34mIf this is acceptable, I will finalize the agreement, get it signed and have it forwarded to you for counter-signature by DB.\u001b[0m \n",
            "\n",
            "\u001b[33mCosine Similarity: 0.961 \t Email 13135 \t Line 10 \u001b[0m\n",
            "\u001b[34mWe are hoping to get this approved by Wednesday Tokyo time so if this needs to be passed on, I would be grateful if you could do this today (your time).\u001b[0m \n",
            "\n",
            "CPU times: user 3.34 s, sys: 7.58 ms, total: 3.34 s\n",
            "Wall time: 3.33 s\n"
          ],
          "name": "stdout"
        }
      ]
    },
    {
      "cell_type": "code",
      "metadata": {
        "id": "PoCJil9B5gVP",
        "outputId": "e385e272-5d1f-47d5-cdf9-db77a7ec0654",
        "colab": {
          "base_uri": "https://localhost:8080/",
          "height": 286
        }
      },
      "source": [
        "%%time\n",
        "glove_search(query, prep_embeddings, prep, prep_indx_to_email, is_preprocess=True, top_n=4)"
      ],
      "execution_count": null,
      "outputs": [
        {
          "output_type": "stream",
          "text": [
            "Query: \u001b[31mI want the work to be submitted by this weekend\u001b[0m\n",
            "Preprocessed Query: \u001b[31mwant work submitted weekend\u001b[0m \n",
            "\u001b[33mCosine Similarity: 0.878 \t Email 2048 \t Line 1 \u001b[0m\n",
            "\u001b[34mwant work evening\u001b[0m \n",
            "\n",
            "\u001b[33mCosine Similarity: 0.872 \t Email 8202 \t Line 3 \u001b[0m\n",
            "\u001b[34mplease let know time work tomorrow friday would work best schedule\u001b[0m \n",
            "\n",
            "\u001b[33mCosine Similarity: 0.868 \t Email 12551 \t Line 2 \u001b[0m\n",
            "\u001b[34mwould like try get issue addressed next week people need talk turn draft isda schedule please make priority\u001b[0m \n",
            "\n",
            "\u001b[33mCosine Similarity: 0.868 \t Email 8974 \t Line 2 \u001b[0m\n",
            "\u001b[34mwork weekend\u001b[0m \n",
            "\n",
            "CPU times: user 3.16 s, sys: 6.6 ms, total: 3.17 s\n",
            "Wall time: 3.16 s\n"
          ],
          "name": "stdout"
        }
      ]
    },
    {
      "cell_type": "code",
      "metadata": {
        "id": "jI7zS4Sgt7yQ",
        "outputId": "719350e0-8e14-4a6f-f83f-a4b9bce1afa9",
        "colab": {
          "base_uri": "https://localhost:8080/",
          "height": 286
        }
      },
      "source": [
        "%%time\n",
        "bert_search(query, unprep_index, unprep, unprep_indx_to_email, top_n=4, is_preprocess=False)"
      ],
      "execution_count": null,
      "outputs": [
        {
          "output_type": "stream",
          "text": [
            "\u001b[35mQuery 1 of 1 \u001b[0m\n",
            "Query: \u001b[31mI want the work to be submitted by this weekend\u001b[0m\n",
            "\u001b[33mCosine Similarity: 0.843 \t Email 9468 \t Line 2 \u001b[0m\n",
            "\u001b[34mI just want  to make sure it will be available before March bidweek.\u001b[0m \n",
            "\n",
            "\u001b[33mCosine Similarity: 0.840 \t Email 506 \t Line 6 \u001b[0m\n",
            "\u001b[34mI will schedule an August date with you  for your review as soon as I know the exact date of the final PRC meeting.\u001b[0m \n",
            "\n",
            "\u001b[33mCosine Similarity: 0.835 \t Email 951 \t Line 4 \u001b[0m\n",
            "\u001b[34mThis should be completed early next week and either your group or Steve will get it circulated for sign-offs.\u001b[0m \n",
            "\n",
            "\u001b[33mCosine Similarity: 0.831 \t Email 6554 \t Line 1 \u001b[0m\n",
            "\u001b[34mWe are putting together a symposium brochure this month and would like to receive 2 items from you by Wednesday, December 12, 2001.\u001b[0m \n",
            "\n",
            "CPU times: user 2.64 s, sys: 417 ms, total: 3.06 s\n",
            "Wall time: 2.89 s\n"
          ],
          "name": "stdout"
        }
      ]
    },
    {
      "cell_type": "code",
      "metadata": {
        "id": "IwcHExesyetV"
      },
      "source": [
        "%%time\n",
        "bert_search(query, preprocessed_index, prep, prep_indx_to_email, top_n=4, is_preprocess=True)"
      ],
      "execution_count": null,
      "outputs": []
    },
    {
      "cell_type": "code",
      "metadata": {
        "id": "uwqpWD69kr5f"
      },
      "source": [
        "from __future__ import print_function  # for Python2\n",
        "import sys\n",
        "\n",
        "local_vars = list(locals().items())\n",
        "print(\"Variable with their size in Bytes\")\n",
        "for var, obj in local_vars:\n",
        "    print(var, sys.getsizeof(obj))"
      ],
      "execution_count": null,
      "outputs": []
    },
    {
      "cell_type": "code",
      "metadata": {
        "id": "TFNF8uIykscG"
      },
      "source": [
        ""
      ],
      "execution_count": null,
      "outputs": []
    }
  ]
}