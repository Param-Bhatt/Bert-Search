{
  "nbformat": 4,
  "nbformat_minor": 0,
  "metadata": {
    "accelerator": "GPU",
    "colab": {
      "name": "PDOC3 Documenter.ipynb",
      "provenance": [],
      "mount_file_id": "1sJfx3To0p88Sbh0hHA72UpvdgkH0-tTw",
      "authorship_tag": "ABX9TyOMgFI2DTHDyRjw8y5W5W8K"
    },
    "kernelspec": {
      "display_name": "Python 3",
      "name": "python3"
    }
  },
  "cells": [
    {
      "cell_type": "code",
      "metadata": {
        "id": "7qZaIa3IYNza",
        "outputId": "51213991-603c-4b05-9239-f526ce2b2bb0",
        "colab": {
          "base_uri": "https://localhost:8080/",
          "height": 1000
        }
      },
      "source": [
        "!pip install datasets\n",
        "!pip install bert-embedding --no-deps\n",
        "!pip install gluonnlp\n",
        "!pip install mxnet-cu101"
      ],
      "execution_count": 1,
      "outputs": [
        {
          "output_type": "stream",
          "text": [
            "Collecting datasets\n",
            "\u001b[?25l  Downloading https://files.pythonhosted.org/packages/f0/f4/2a3d6aee93ae7fce6c936dda2d7f534ad5f044a21238f85e28f0b205adf0/datasets-1.1.2-py3-none-any.whl (147kB)\n",
            "\u001b[K     |████████████████████████████████| 153kB 11.3MB/s \n",
            "\u001b[?25hCollecting xxhash\n",
            "\u001b[?25l  Downloading https://files.pythonhosted.org/packages/f7/73/826b19f3594756cb1c6c23d2fbd8ca6a77a9cd3b650c9dec5acc85004c38/xxhash-2.0.0-cp36-cp36m-manylinux2010_x86_64.whl (242kB)\n",
            "\u001b[K     |████████████████████████████████| 245kB 9.6MB/s \n",
            "\u001b[?25hCollecting pyarrow>=0.17.1\n",
            "\u001b[?25l  Downloading https://files.pythonhosted.org/packages/d7/e1/27958a70848f8f7089bff8d6ebe42519daf01f976d28b481e1bfd52c8097/pyarrow-2.0.0-cp36-cp36m-manylinux2014_x86_64.whl (17.7MB)\n",
            "\u001b[K     |████████████████████████████████| 17.7MB 198kB/s \n",
            "\u001b[?25hRequirement already satisfied: requests>=2.19.0 in /usr/local/lib/python3.6/dist-packages (from datasets) (2.23.0)\n",
            "Requirement already satisfied: pandas in /usr/local/lib/python3.6/dist-packages (from datasets) (1.1.2)\n",
            "Requirement already satisfied: multiprocess in /usr/local/lib/python3.6/dist-packages (from datasets) (0.70.10)\n",
            "Requirement already satisfied: tqdm<4.50.0,>=4.27 in /usr/local/lib/python3.6/dist-packages (from datasets) (4.41.1)\n",
            "Requirement already satisfied: filelock in /usr/local/lib/python3.6/dist-packages (from datasets) (3.0.12)\n",
            "Requirement already satisfied: dataclasses; python_version < \"3.7\" in /usr/local/lib/python3.6/dist-packages (from datasets) (0.7)\n",
            "Requirement already satisfied: numpy>=1.17 in /usr/local/lib/python3.6/dist-packages (from datasets) (1.18.5)\n",
            "Requirement already satisfied: dill in /usr/local/lib/python3.6/dist-packages (from datasets) (0.3.2)\n",
            "Requirement already satisfied: chardet<4,>=3.0.2 in /usr/local/lib/python3.6/dist-packages (from requests>=2.19.0->datasets) (3.0.4)\n",
            "Requirement already satisfied: certifi>=2017.4.17 in /usr/local/lib/python3.6/dist-packages (from requests>=2.19.0->datasets) (2020.6.20)\n",
            "Requirement already satisfied: idna<3,>=2.5 in /usr/local/lib/python3.6/dist-packages (from requests>=2.19.0->datasets) (2.10)\n",
            "Requirement already satisfied: urllib3!=1.25.0,!=1.25.1,<1.26,>=1.21.1 in /usr/local/lib/python3.6/dist-packages (from requests>=2.19.0->datasets) (1.24.3)\n",
            "Requirement already satisfied: pytz>=2017.2 in /usr/local/lib/python3.6/dist-packages (from pandas->datasets) (2018.9)\n",
            "Requirement already satisfied: python-dateutil>=2.7.3 in /usr/local/lib/python3.6/dist-packages (from pandas->datasets) (2.8.1)\n",
            "Requirement already satisfied: six>=1.5 in /usr/local/lib/python3.6/dist-packages (from python-dateutil>=2.7.3->pandas->datasets) (1.15.0)\n",
            "Installing collected packages: xxhash, pyarrow, datasets\n",
            "  Found existing installation: pyarrow 0.14.1\n",
            "    Uninstalling pyarrow-0.14.1:\n",
            "      Successfully uninstalled pyarrow-0.14.1\n",
            "Successfully installed datasets-1.1.2 pyarrow-2.0.0 xxhash-2.0.0\n",
            "Collecting bert-embedding\n",
            "  Downloading https://files.pythonhosted.org/packages/62/85/e0d56e29a055d8b3ba6da6e52afe404f209453057de95b90c01475c3ff75/bert_embedding-1.0.1-py3-none-any.whl\n",
            "Installing collected packages: bert-embedding\n",
            "Successfully installed bert-embedding-1.0.1\n",
            "Collecting gluonnlp\n",
            "\u001b[?25l  Downloading https://files.pythonhosted.org/packages/9c/81/a238e47ccba0d7a61dcef4e0b4a7fd4473cb86bed3d84dd4fe28d45a0905/gluonnlp-0.10.0.tar.gz (344kB)\n",
            "\u001b[K     |████████████████████████████████| 348kB 8.2MB/s \n",
            "\u001b[?25hRequirement already satisfied: numpy>=1.16.0 in /usr/local/lib/python3.6/dist-packages (from gluonnlp) (1.18.5)\n",
            "Requirement already satisfied: cython in /usr/local/lib/python3.6/dist-packages (from gluonnlp) (0.29.21)\n",
            "Requirement already satisfied: packaging in /usr/local/lib/python3.6/dist-packages (from gluonnlp) (20.4)\n",
            "Requirement already satisfied: pyparsing>=2.0.2 in /usr/local/lib/python3.6/dist-packages (from packaging->gluonnlp) (2.4.7)\n",
            "Requirement already satisfied: six in /usr/local/lib/python3.6/dist-packages (from packaging->gluonnlp) (1.15.0)\n",
            "Building wheels for collected packages: gluonnlp\n",
            "  Building wheel for gluonnlp (setup.py) ... \u001b[?25l\u001b[?25hdone\n",
            "  Created wheel for gluonnlp: filename=gluonnlp-0.10.0-cp36-cp36m-linux_x86_64.whl size=588518 sha256=30e4e1704d4e5ab96def51082ef94a4b63e3ef1bc63d6fd11eda59982198b5c4\n",
            "  Stored in directory: /root/.cache/pip/wheels/37/65/52/63032864a0f31a08b9a88569f803b5bafac8abd207fd7f7534\n",
            "Successfully built gluonnlp\n",
            "\u001b[31mERROR: bert-embedding 1.0.1 requires mxnet==1.4.0, which is not installed.\u001b[0m\n",
            "\u001b[31mERROR: bert-embedding 1.0.1 requires typing==3.6.6, which is not installed.\u001b[0m\n",
            "\u001b[31mERROR: bert-embedding 1.0.1 has requirement gluonnlp==0.6.0, but you'll have gluonnlp 0.10.0 which is incompatible.\u001b[0m\n",
            "\u001b[31mERROR: bert-embedding 1.0.1 has requirement numpy==1.14.6, but you'll have numpy 1.18.5 which is incompatible.\u001b[0m\n",
            "Installing collected packages: gluonnlp\n",
            "Successfully installed gluonnlp-0.10.0\n",
            "Collecting mxnet-cu101\n",
            "\u001b[?25l  Downloading https://files.pythonhosted.org/packages/40/26/9655677b901537f367c3c473376e4106abc72e01a8fc25b1cb6ed9c37e8c/mxnet_cu101-1.7.0-py2.py3-none-manylinux2014_x86_64.whl (846.0MB)\n",
            "\u001b[K     |███████████████████████████████▌| 834.1MB 1.2MB/s eta 0:00:10tcmalloc: large alloc 1147494400 bytes == 0x3a28a000 @  0x7fb094b09615 0x591f47 0x4cc229 0x4cc38b 0x50a51c 0x50c1f4 0x507f24 0x509c50 0x50a64d 0x50c1f4 0x507f24 0x509c50 0x50a64d 0x50cfd6 0x58e793 0x50c467 0x58e793 0x50c467 0x58e793 0x50c467 0x58e793 0x50c467 0x509918 0x50a64d 0x50c1f4 0x507f24 0x509c50 0x50a64d 0x50c1f4 0x509918 0x50a64d\n",
            "\u001b[K     |████████████████████████████████| 846.0MB 21kB/s \n",
            "\u001b[?25hRequirement already satisfied: requests<3,>=2.20.0 in /usr/local/lib/python3.6/dist-packages (from mxnet-cu101) (2.23.0)\n",
            "Collecting graphviz<0.9.0,>=0.8.1\n",
            "  Downloading https://files.pythonhosted.org/packages/53/39/4ab213673844e0c004bed8a0781a0721a3f6bb23eb8854ee75c236428892/graphviz-0.8.4-py2.py3-none-any.whl\n",
            "Requirement already satisfied: numpy<2.0.0,>1.16.0 in /usr/local/lib/python3.6/dist-packages (from mxnet-cu101) (1.18.5)\n",
            "Requirement already satisfied: certifi>=2017.4.17 in /usr/local/lib/python3.6/dist-packages (from requests<3,>=2.20.0->mxnet-cu101) (2020.6.20)\n",
            "Requirement already satisfied: urllib3!=1.25.0,!=1.25.1,<1.26,>=1.21.1 in /usr/local/lib/python3.6/dist-packages (from requests<3,>=2.20.0->mxnet-cu101) (1.24.3)\n",
            "Requirement already satisfied: idna<3,>=2.5 in /usr/local/lib/python3.6/dist-packages (from requests<3,>=2.20.0->mxnet-cu101) (2.10)\n",
            "Requirement already satisfied: chardet<4,>=3.0.2 in /usr/local/lib/python3.6/dist-packages (from requests<3,>=2.20.0->mxnet-cu101) (3.0.4)\n",
            "Installing collected packages: graphviz, mxnet-cu101\n",
            "  Found existing installation: graphviz 0.10.1\n",
            "    Uninstalling graphviz-0.10.1:\n",
            "      Successfully uninstalled graphviz-0.10.1\n",
            "Successfully installed graphviz-0.8.4 mxnet-cu101-1.7.0\n"
          ],
          "name": "stdout"
        }
      ]
    },
    {
      "cell_type": "code",
      "metadata": {
        "id": "mr4-ZI3IAWXB",
        "outputId": "fa4f5149-aef1-47aa-cde3-6933219e4401",
        "colab": {
          "base_uri": "https://localhost:8080/",
          "height": 332
        }
      },
      "source": [
        "!pip install pdoc3"
      ],
      "execution_count": 2,
      "outputs": [
        {
          "output_type": "stream",
          "text": [
            "Collecting pdoc3\n",
            "\u001b[?25l  Downloading https://files.pythonhosted.org/packages/67/68/ce1035e720f1c5b80372164c389907d26cb488d600b42d136c75f587a427/pdoc3-0.9.1.tar.gz (83kB)\n",
            "\u001b[K     |████████████████████████████████| 92kB 6.0MB/s \n",
            "\u001b[?25hCollecting mako\n",
            "\u001b[?25l  Downloading https://files.pythonhosted.org/packages/a6/37/0e706200d22172eb8fa17d68a7ae22dec7631a0a92266634fb518a88a5b2/Mako-1.1.3-py2.py3-none-any.whl (75kB)\n",
            "\u001b[K     |████████████████████████████████| 81kB 4.9MB/s \n",
            "\u001b[?25hRequirement already satisfied: markdown>=3.0 in /usr/local/lib/python3.6/dist-packages (from pdoc3) (3.2.2)\n",
            "Requirement already satisfied: MarkupSafe>=0.9.2 in /usr/local/lib/python3.6/dist-packages (from mako->pdoc3) (1.1.1)\n",
            "Requirement already satisfied: importlib-metadata; python_version < \"3.8\" in /usr/local/lib/python3.6/dist-packages (from markdown>=3.0->pdoc3) (2.0.0)\n",
            "Requirement already satisfied: zipp>=0.5 in /usr/local/lib/python3.6/dist-packages (from importlib-metadata; python_version < \"3.8\"->markdown>=3.0->pdoc3) (3.2.0)\n",
            "Building wheels for collected packages: pdoc3\n",
            "  Building wheel for pdoc3 (setup.py) ... \u001b[?25l\u001b[?25hdone\n",
            "  Created wheel for pdoc3: filename=pdoc3-0.9.1-cp36-none-any.whl size=115994 sha256=383e3962aa5de5f86676e42a3db39b9cac0bedf2517f63d168af872d2c6ab8f3\n",
            "  Stored in directory: /root/.cache/pip/wheels/84/0d/9e/b10defcfc3a3b76999ea945f0d57047340456e966e2184a451\n",
            "Successfully built pdoc3\n",
            "Installing collected packages: mako, pdoc3\n",
            "Successfully installed mako-1.1.3 pdoc3-0.9.1\n"
          ],
          "name": "stdout"
        }
      ]
    },
    {
      "cell_type": "code",
      "metadata": {
        "id": "g5iBL3FyXbkT",
        "outputId": "8d43d9c2-229b-4e5e-893f-1a93d254100f",
        "colab": {
          "base_uri": "https://localhost:8080/",
          "height": 34
        }
      },
      "source": [
        "from google.colab import drive\n",
        "drive.mount('/content/drive')"
      ],
      "execution_count": 3,
      "outputs": [
        {
          "output_type": "stream",
          "text": [
            "Drive already mounted at /content/drive; to attempt to forcibly remount, call drive.mount(\"/content/drive\", force_remount=True).\n"
          ],
          "name": "stdout"
        }
      ]
    },
    {
      "cell_type": "code",
      "metadata": {
        "id": "XBxEXJmHXd8s",
        "outputId": "0a75d658-0d1a-4893-fcc8-e109c215186a",
        "colab": {
          "base_uri": "https://localhost:8080/",
          "height": 34
        }
      },
      "source": [
        "%cd \"/content/drive/My Drive/IR Assignment 1/bert-autodocument\""
      ],
      "execution_count": 4,
      "outputs": [
        {
          "output_type": "stream",
          "text": [
            "/content/drive/My Drive/IR Assignment 1/bert-autodocument\n"
          ],
          "name": "stdout"
        }
      ]
    },
    {
      "cell_type": "code",
      "metadata": {
        "id": "L47iHIeoXtuH",
        "outputId": "c88731d9-6e90-482a-c803-12cdad484baa",
        "colab": {
          "base_uri": "https://localhost:8080/",
          "height": 34
        }
      },
      "source": [
        "!ls"
      ],
      "execution_count": 8,
      "outputs": [
        {
          "output_type": "stream",
          "text": [
            "Bert_Email_Embeddings.pkl  bert.py  Email_Embeddings.pkl  __pycache__\n"
          ],
          "name": "stdout"
        }
      ]
    },
    {
      "cell_type": "code",
      "metadata": {
        "id": "xytGxNt1_5ZP",
        "outputId": "e41ee84d-b6da-4190-9820-f934d374c294",
        "colab": {
          "base_uri": "https://localhost:8080/",
          "height": 1000
        }
      },
      "source": [
        "!pdoc --html bert.py"
      ],
      "execution_count": 11,
      "outputs": [
        {
          "output_type": "stream",
          "text": [
            "[nltk_data] Downloading package wordnet to /root/nltk_data...\n",
            "[nltk_data]   Package wordnet is already up-to-date!\n",
            "[nltk_data] Downloading package stopwords to /root/nltk_data...\n",
            "[nltk_data]   Package stopwords is already up-to-date!\n",
            "/usr/local/lib/python3.6/dist-packages/IPython/utils/module_paths.py:29: DeprecationWarning: the imp module is deprecated in favour of importlib; see the module's documentation for alternative uses\n",
            "  import imp\n",
            "2020-10-23 06:16:34.902450: I tensorflow/stream_executor/platform/default/dso_loader.cc:48] Successfully opened dynamic library libcudart.so.10.1\n",
            "Using custom data configuration default\n",
            "Reusing dataset aeslc (/root/.cache/huggingface/datasets/aeslc/default/1.0.0/0f335d7ea7f9ab9e325673a86c6aa0e2cd503c5dbf17d48fddcb02840a92fc96)\n",
            "Iteration:  0\n",
            "Iteration:  500\n",
            "Iteration:  1000\n",
            "Iteration:  1500\n",
            "Iteration:  2000\n",
            "Iteration:  2500\n",
            "Iteration:  3000\n",
            "Iteration:  3500\n",
            "Iteration:  4000\n",
            "Iteration:  4500\n",
            "Iteration:  5000\n",
            "Iteration:  5500\n",
            "Iteration:  6000\n",
            "Iteration:  6500\n",
            "Iteration:  7000\n",
            "Iteration:  7500\n",
            "Iteration:  8000\n",
            "Iteration:  8500\n",
            "Iteration:  9000\n",
            "Iteration:  9500\n",
            "Iteration:  10000\n",
            "Iteration:  10500\n",
            "Iteration:  11000\n",
            "Iteration:  11500\n",
            "Iteration:  12000\n",
            "Iteration:  12500\n",
            "Iteration:  13000\n",
            "Iteration:  13500\n",
            "Iteration:  14000\n",
            "\u001b[35mQuery 1 of 2 \u001b[0m\n",
            "Query: \u001b[31mI will fill in the Legal description of the property one I have received it. \u001b[0m \n",
            "\n",
            "\u001b[33mCosine Similarity: 1.000 \t Email 0 \t Line 2 \u001b[0m\n",
            "\u001b[34mfill legal description property one received\u001b[0m \n",
            "\n",
            "\u001b[33mCosine Similarity: 0.822 \t Email 12610 \t Line 0 \u001b[0m\n",
            "\u001b[34mjeff received request counterparty alter format confirmation process physical financial deal\u001b[0m \n",
            "\n",
            "\u001b[33mCosine Similarity: 0.816 \t Email 906 \t Line 13 \u001b[0m\n",
            "\u001b[34mwould appear work backwards summary sale unsecured creditor committee want\u001b[0m \n",
            "\n",
            "\u001b[33mCosine Similarity: 0.815 \t Email 4450 \t Line 1 \u001b[0m\n",
            "\u001b[34mone letter lieu transfer division order linder dunhill regarding certain property sold dunhill resource llc 11 01 01\u001b[0m \n",
            "\n",
            "\u001b[35mQuery 2 of 2 \u001b[0m\n",
            "Query: \u001b[31m Please let me know how you wish to handle this and I will proceed.\u001b[0m \n",
            "\n",
            "\u001b[33mCosine Similarity: 1.000 \t Email 1 \t Line 2 \u001b[0m\n",
            "\u001b[34mplease let know wish handle proceed\u001b[0m \n",
            "\n",
            "\u001b[33mCosine Similarity: 0.899 \t Email 11645 \t Line 1 \u001b[0m\n",
            "\u001b[34mplease let know want handle default\u001b[0m \n",
            "\n",
            "\u001b[33mCosine Similarity: 0.880 \t Email 9792 \t Line 3 \u001b[0m\n",
            "\u001b[34mplease let know handle issue\u001b[0m \n",
            "\n",
            "\u001b[33mCosine Similarity: 0.875 \t Email 9201 \t Line 2 \u001b[0m\n",
            "\u001b[34mplease give call wish discus\u001b[0m \n",
            "\n",
            "\u001b[35mQuery 1 of 1 \u001b[0m\n",
            "Query: \u001b[31mJust thought you might want to put it on the list of fun  things to do in the future.\u001b[0m \n",
            "\n",
            "\u001b[33mCosine Similarity: 1.000 \t Email 7512 \t Line 1 \u001b[0m\n",
            "\u001b[34mthought might want put list fun thing future\u001b[0m \n",
            "\n",
            "\u001b[33mCosine Similarity: 0.898 \t Email 7055 \t Line 1 \u001b[0m\n",
            "\u001b[34mpoint well thought would like day get new draft\u001b[0m \n",
            "\n",
            "\u001b[33mCosine Similarity: 0.890 \t Email 141 \t Line 8 \u001b[0m\n",
            "\u001b[34mlet know friend think might want play\u001b[0m \n",
            "\n",
            "\u001b[35mQuery 1 of 1 \u001b[0m\n",
            "Query: \u001b[31mI have made some really good friends and I would like to stay in touch with all of you.\u001b[0m \n",
            "\n",
            "\u001b[33mCosine Similarity: 1.000 \t Email 9999 \t Line 3 \u001b[0m\n",
            "\u001b[34mmade really good friend would like stay touch\u001b[0m \n",
            "\n",
            "\u001b[33mCosine Similarity: 0.858 \t Email 7512 \t Line 1 \u001b[0m\n",
            "\u001b[34mthought might want put list fun thing future\u001b[0m \n",
            "\n",
            "\u001b[33mCosine Similarity: 0.855 \t Email 7055 \t Line 1 \u001b[0m\n",
            "\u001b[34mpoint well thought would like day get new draft\u001b[0m \n",
            "\n",
            "<unknown>:29: DeprecationWarning: invalid escape sequence \\[\n",
            "tcmalloc: large alloc 1293287424 bytes == 0x7f6c91b12000 @  0x7f6f84b19615 0x5478f5 0x52de78 0x52e31b 0x588470 0x564e41 0x52ab12 0x52b866 0x50a7f5 0x50c1f4 0x509918 0x50a64d 0x50c1f4 0x507f24 0x509c50 0x50a64d 0x50c1f4 0x507f24 0x509c50 0x50a64d 0x50c1f4 0x507f24 0x509c50 0x50a64d 0x50c1f4 0x507f24 0x509c50 0x50a64d 0x50c1f4 0x507f24 0x509c50\n",
            "tcmalloc: large alloc 1616609280 bytes == 0x7f6bf3aa8000 @  0x7f6f84b19615 0x5478f5 0x52de78 0x52e31b 0x588470 0x564e41 0x52ab12 0x52b866 0x50a7f5 0x50c1f4 0x509918 0x50a64d 0x50c1f4 0x507f24 0x509c50 0x50a64d 0x50c1f4 0x507f24 0x509c50 0x50a64d 0x50c1f4 0x507f24 0x509c50 0x50a64d 0x50c1f4 0x507f24 0x509c50 0x50a64d 0x50c1f4 0x507f24 0x509c50\n",
            "tcmalloc: large alloc 1899593728 bytes == 0x7f6c54060000 @  0x7f6f84b181e7 0x544b3f 0x52dd92 0x52e31b 0x4ee8ec 0x52a93d 0x52b866 0x50a7f5 0x50c1f4 0x509918 0x50a64d 0x50c1f4 0x507f24 0x509c50 0x50a64d 0x50c1f4 0x507f24 0x509c50 0x50a64d 0x50c1f4 0x507f24 0x509c50 0x50a64d 0x50c1f4 0x507f24 0x509c50 0x50a64d 0x50c1f4 0x507f24 0x509c50 0x50a64d\n",
            "tcmalloc: large alloc 1616609280 bytes == 0x7f6bf3aa8000 @  0x7f6f84b19615 0x5478f5 0x52de78 0x52e31b 0x588470 0x564e41 0x52ab12 0x52b866 0x50a7f5 0x50c1f4 0x509918 0x50a64d 0x50c1f4 0x507f24 0x509c50 0x50a64d 0x50c1f4 0x507f24 0x509c50 0x50a64d 0x50c1f4 0x507f24 0x509c50 0x50a64d 0x50c1f4 0x507f24 0x509c50 0x50a64d 0x50c1f4 0x507f24 0x509c50\n",
            "tcmalloc: large alloc 1899593728 bytes == 0x7f6c54060000 @  0x7f6f84b181e7 0x544b3f 0x52dd92 0x52e31b 0x4ee8ec 0x52a93d 0x52b866 0x50a7f5 0x50c1f4 0x509918 0x50a64d 0x50c1f4 0x507f24 0x509c50 0x50a64d 0x50c1f4 0x507f24 0x509c50 0x50a64d 0x50c1f4 0x507f24 0x509c50 0x50a64d 0x50c1f4 0x507f24 0x509c50 0x50a64d 0x50c1f4 0x507f24 0x509c50 0x50a64d\n",
            "html/bert.html\n"
          ],
          "name": "stdout"
        }
      ]
    },
    {
      "cell_type": "code",
      "metadata": {
        "id": "Q__gWpPK_twm",
        "outputId": "77ead50a-9f19-444e-cefc-55867337b062",
        "colab": {
          "base_uri": "https://localhost:8080/",
          "height": 34
        }
      },
      "source": [
        "%cd \"/../\""
      ],
      "execution_count": 41,
      "outputs": [
        {
          "output_type": "stream",
          "text": [
            "/\n"
          ],
          "name": "stdout"
        }
      ]
    },
    {
      "cell_type": "code",
      "metadata": {
        "id": "gm2yim9p_xhm",
        "outputId": "92d9035e-9d60-4fbb-fed9-5ceee3c85493",
        "colab": {
          "base_uri": "https://localhost:8080/",
          "height": 34
        }
      },
      "source": [
        "%cd \"/content/drive/My Drive/IR Assignment 1/glove-autodocument\""
      ],
      "execution_count": 42,
      "outputs": [
        {
          "output_type": "stream",
          "text": [
            "/content/drive/My Drive/IR Assignment 1/glove-autodocument\n"
          ],
          "name": "stdout"
        }
      ]
    },
    {
      "cell_type": "code",
      "metadata": {
        "id": "X9KHkdvcAE9P",
        "outputId": "fec2ee1c-b2ff-4594-880c-d0556d70ee9d",
        "colab": {
          "base_uri": "https://localhost:8080/",
          "height": 52
        }
      },
      "source": [
        "!ls"
      ],
      "execution_count": 43,
      "outputs": [
        {
          "output_type": "stream",
          "text": [
            "glove.6B.100d.txt  glove.6B.300d.txt  glove.6B.zip  __pycache__\n",
            "glove.6B.200d.txt  glove.6B.50d.txt   glove.py\n"
          ],
          "name": "stdout"
        }
      ]
    },
    {
      "cell_type": "code",
      "metadata": {
        "id": "QL4sfk70AG47",
        "outputId": "42b1deda-e505-4024-b7de-e8358352fb94",
        "colab": {
          "base_uri": "https://localhost:8080/",
          "height": 193
        }
      },
      "source": [
        "!pdoc --html glove.py"
      ],
      "execution_count": 44,
      "outputs": [
        {
          "output_type": "stream",
          "text": [
            "/usr/local/lib/python3.6/dist-packages/IPython/utils/module_paths.py:29: DeprecationWarning: the imp module is deprecated in favour of importlib; see the module's documentation for alternative uses\n",
            "  import imp\n",
            "2020-10-22 20:52:07.465328: I tensorflow/stream_executor/platform/default/dso_loader.cc:48] Successfully opened dynamic library libcudart.so.10.1\n",
            "[nltk_data] Downloading package wordnet to /root/nltk_data...\n",
            "[nltk_data]   Package wordnet is already up-to-date!\n",
            "[nltk_data] Downloading package stopwords to /root/nltk_data...\n",
            "[nltk_data]   Package stopwords is already up-to-date!\n",
            "<unknown>:30: DeprecationWarning: invalid escape sequence \\[\n",
            "html/glove.html\n"
          ],
          "name": "stdout"
        }
      ]
    }
  ]
}